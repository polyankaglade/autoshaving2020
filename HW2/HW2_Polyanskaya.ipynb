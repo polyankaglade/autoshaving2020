{
 "cells": [
  {
   "cell_type": "markdown",
   "metadata": {},
   "source": [
    "1. [X] (3 балла) Предложите 3 способа найти упоминания товаров в отзывах. Какие данные необходимы для каждого из способов? Какие есть достоинства/недостатки?\n",
    "\n",
    "\n",
    "2. [X] (2 балла) Реализуйте один из предложенных вами способов.\n",
    "\n",
    "\n",
    "3. [X] (1 балл) Соберите n-граммы с полученными сущностями (NE + левый сосед / NE + правый сосед)\n",
    "\n",
    "\n",
    "4. [X] (3 балла) Ранжируйте n-граммы с помощью 3 коллокационных метрик (t-score, PMI и т.д.). Не забудьте про частотный фильтр / сглаживание. Выберите лучший результат (какая метрика  ранжирует выше коллокации, подходящие для отчёта).\n",
    "\n",
    "\n",
    "5. [X] (1 балл) Сгруппируйте полученные коллокации по NE, выведите примеры для 5 товаров.\n",
    "\n",
    "\n",
    "- [X] jupyter-ноутбук + укажите, какие данные брали — или положите их тоже в репозиторий."
   ]
  },
  {
   "cell_type": "markdown",
   "metadata": {},
   "source": [
    "# Идеи как найти упоминания\n",
    "\n",
    "1. Посчитать частотные существительные по всему корпусу,с помоцью w2v и найти наиболее близкие к выделенным существительным. *Плюсы*: получается большой словарь синонимов. *Минусы*: надо использвать готовую модель (в которой может не быть некоторых слов) или обуать свою (при большом размере корпуса это может быть долго); если руками не фильтровать существительные, то туда попадет много всего лишнего.\n",
    "\n",
    "\n",
    "2. **То же самое, но пересечь частотные слова с леммами из поддерева данной категории в WordNet** *Плюсы*: все собирается автоматически. *Минусы*: какого-то количества слов точно не будет в итоговом словаре \n",
    "\n",
    "\n",
    "3. Взять самые большие отзывы/склеить отзывы на 1 товар (по мета данным) и применить к ним методы выделения ключевых слов. *Плюсы*: больших отзывов достаточно много, может неплохо сработать. *Минусы*: нужно сводить отзывы с метаданными; возможно будут выделяться не NE, а просто устойчивые словосочетания, типичные для жанра отзывов.\n",
    "\n",
    "\n",
    "4. Использовать готовый NER. *Плюсы*: почти все уже готово. *Минусы*: \"поймаются\" только то, что содержит название бренда.\n",
    "\n",
    "\n",
    "5. Посмотреть на пересечение Текста и Саммари. Плюсы и минусы сложно прикинуть."
   ]
  },
  {
   "cell_type": "code",
   "execution_count": 49,
   "metadata": {},
   "outputs": [],
   "source": [
    "import json\n",
    "import gzip\n",
    "from tqdm.auto import tqdm\n",
    "\n",
    "import nltk\n",
    "from matplotlib import pyplot as plt\n",
    "from collections import Counter\n",
    "\n",
    "import pickle\n",
    "import string\n",
    "from nltk.corpus import stopwords\n",
    "stops = stopwords.words('english')"
   ]
  },
  {
   "cell_type": "markdown",
   "metadata": {},
   "source": [
    "Использую `Musical Instruments` sample dataset [отсюда](https://nijianmo.github.io/amazon/index.html), потому что я начала делать задание до того, как заметила, что в задании обновили ссылку на данные."
   ]
  },
  {
   "cell_type": "code",
   "execution_count": 145,
   "metadata": {},
   "outputs": [
    {
     "name": "stdout",
     "output_type": "stream",
     "text": [
      "231392\n"
     ]
    }
   ],
   "source": [
    "data = []\n",
    "with gzip.open('Musical_Instruments_5.json.gz') as f:\n",
    "    for l in f:\n",
    "        data.append(json.loads(l.strip()))\n",
    "    \n",
    "# total length of list, this number equals total number of products\n",
    "print(len(data))"
   ]
  },
  {
   "cell_type": "code",
   "execution_count": 146,
   "metadata": {},
   "outputs": [
    {
     "data": {
      "text/plain": [
       "{'overall': 5.0,\n",
       " 'verified': True,\n",
       " 'reviewTime': '10 30, 2016',\n",
       " 'reviewerID': 'A3FO5AKVTFRCRJ',\n",
       " 'asin': '0739079891',\n",
       " 'reviewerName': 'francisco',\n",
       " 'reviewText': \"It's good for beginners\",\n",
       " 'summary': 'Five Stars',\n",
       " 'unixReviewTime': 1477785600}"
      ]
     },
     "execution_count": 146,
     "metadata": {},
     "output_type": "execute_result"
    }
   ],
   "source": [
    "data[0]"
   ]
  },
  {
   "cell_type": "code",
   "execution_count": 147,
   "metadata": {},
   "outputs": [
    {
     "name": "stdout",
     "output_type": "stream",
     "text": [
      "[16840, 16999, 17465, 17627, 25914, 30139, 31309, 32299, 33575, 37233, 39787, 42966, 52475, 54780, 58474, 68900, 79377, 86939, 95705, 104343, 109024, 127662, 153286, 166639, 166658, 168957, 171927, 173470, 173968, 181465, 198929, 199454, 201808, 202113, 202378, 203860, 204207, 204410, 209119, 212036, 217238, 217584, 219970, 223213, 225944, 229448, 229479, 229572]\n"
     ]
    }
   ],
   "source": [
    "empty = []\n",
    "for i, d in enumerate(data):\n",
    "    try:\n",
    "        _ = d['reviewText']\n",
    "    except KeyError:\n",
    "        empty.append(i)\n",
    "        \n",
    "print(empty)"
   ]
  },
  {
   "cell_type": "code",
   "execution_count": 148,
   "metadata": {},
   "outputs": [],
   "source": [
    "corpus = [d['reviewText'] for i, d in enumerate(data) if i not in empty]"
   ]
  },
  {
   "cell_type": "markdown",
   "metadata": {},
   "source": [
    "## Получение слов из WordNet'a"
   ]
  },
  {
   "cell_type": "code",
   "execution_count": 66,
   "metadata": {},
   "outputs": [],
   "source": [
    "from nltk.corpus import wordnet as wn"
   ]
  },
  {
   "cell_type": "code",
   "execution_count": 87,
   "metadata": {},
   "outputs": [],
   "source": [
    "musical_instrument = wn.synset('musical_instrument.n.01')"
   ]
  },
  {
   "cell_type": "code",
   "execution_count": 92,
   "metadata": {},
   "outputs": [
    {
     "data": {
      "text/plain": [
       "[Synset('barrel_organ.n.01'),\n",
       " Synset('bass.n.07'),\n",
       " Synset('calliope.n.02'),\n",
       " Synset('electronic_instrument.n.01'),\n",
       " Synset('jew's_harp.n.01'),\n",
       " Synset('keyboard_instrument.n.01'),\n",
       " Synset('music_box.n.01'),\n",
       " Synset('percussion_instrument.n.01'),\n",
       " Synset('stringed_instrument.n.01'),\n",
       " Synset('wind_instrument.n.01')]"
      ]
     },
     "execution_count": 92,
     "metadata": {},
     "output_type": "execute_result"
    }
   ],
   "source": [
    "musical_instrument.hyponyms()"
   ]
  },
  {
   "cell_type": "code",
   "execution_count": 101,
   "metadata": {},
   "outputs": [
    {
     "data": {
      "text/plain": [
       "164"
      ]
     },
     "execution_count": 101,
     "metadata": {},
     "output_type": "execute_result"
    }
   ],
   "source": [
    "instruments = []\n",
    "syns = [musical_instrument]\n",
    "\n",
    "while syns:\n",
    "    for syn in syns:\n",
    "        instruments.append(syn)\n",
    "        syns.remove(syn)\n",
    "        syns.extend(syn.hyponyms())\n",
    "\n",
    "instr_list = list(set(instruments))\n",
    "len(instr_list)"
   ]
  },
  {
   "cell_type": "code",
   "execution_count": 107,
   "metadata": {},
   "outputs": [
    {
     "data": {
      "text/plain": [
       "299"
      ]
     },
     "execution_count": 107,
     "metadata": {},
     "output_type": "execute_result"
    }
   ],
   "source": [
    "musical_instruments = []\n",
    "for i in instr_list:\n",
    "    musical_instruments.extend(i.lemma_names()) \n",
    "\n",
    "len(musical_instruments)"
   ]
  },
  {
   "cell_type": "code",
   "execution_count": 109,
   "metadata": {},
   "outputs": [
    {
     "name": "stdout",
     "output_type": "stream",
     "text": [
      "['banjo', 'pennywhistle', 'tin_whistle', 'whistle', 'cittern', 'cithern', 'cither', 'citole', 'gittern', 'organ_stop', 'tenor_drum', 'tom-tom', \"oboe_d'amore\", 'bandoneon', 'clavier', 'Klavier', 'saxhorn', 'baby_grand', 'baby_grand_piano', 'parlor_grand', 'parlor_grand_piano', 'parlour_grand', 'parlour_grand_piano', 'virginal', 'pair_of_virginals', 'bass_guitar', 'bass_horn', 'sousaphone', 'tuba', 'tambourine', 'snare_drum', 'snare', 'side_drum', 'nose_flute', 'koto', 'dulcimer', 'vox_angelica', 'voix_celeste', 'mandola', 'clarion', 'post_horn', 'tabor', 'tabour', 'chanter', 'melody_pipe', 'concertina', 'American_organ', 'drone', 'drone_pipe', 'bourdon', 'hornpipe', 'pibgorn', 'stockhorn', 'free-reed', 'zill', 'violin', 'fiddle', 'dulcimer', 'viola_da_gamba', 'gamba', 'bass_viol', 'viola_da_braccio', 'trigon', 'percussion_instrument', 'percussive_instrument', 'bass', 'triangle', 'calliope', 'steam_organ', 'viola', 'marimba', 'xylophone', 'grand_piano', 'grand', 'flugelhorn', 'fluegelhorn', 'beating-reed_instrument', 'reed_instrument', 'reed', 'Guarnerius', 'stringed_instrument', 'Amati', 'bowed_stringed_instrument', 'string', \"viola_d'amore\", 'harpsichord', 'cembalo', 'harmonium', 'organ', 'reed_organ', 'flue_stop', 'basset_horn', 'spinet', 'lagerphone', 'electric_organ', 'electronic_organ', 'Hammond_organ', 'organ', 'wind_instrument', 'wind', 'mandolin', 'sourdine', 'mechanical_piano', 'Pianola', 'player_piano', 'carillon', 'cello', 'violoncello', 'musette', \"shepherd's_pipe\", \"jew's_harp\", \"jews'_harp\", 'mouth_bow', 'handbell', 'fife', 'clavichord', 'fipple_flute', 'fipple_pipe', 'recorder', 'vertical_flute', 'upright', 'upright_piano', 'cornet', 'horn', 'trumpet', 'trump', 'pitch_pipe', 'aeolian_harp', 'aeolian_lyre', 'wind_harp', 'high-hat_cymbal', 'high_hat', 'theremin', 'serpent', 'dulciana', 'reed_stop', 'baritone', 'baritone_horn', 'organ_pipe', 'pipe', 'pipework', 'bugle', 'vox_humana', 'keyboard_instrument', 'bagpipe', 'bass_drum', 'gran_casa', 'sax', 'saxophone', 'helicon', 'bombardon', 'whistle', 'bones', 'castanets', 'clappers', 'finger_cymbals', 'diapason', 'diapason_stop', 'barrel_organ', 'grind_organ', 'hand_organ', 'hurdy_gurdy', 'hurdy-gurdy', 'street_organ', 'reed_pipe', 'balalaika', 'bass_clarinet', 'contrabassoon', 'contrafagotto', 'double_bassoon', 'kettle', 'kettledrum', 'tympanum', 'tympani', 'timpani', 'brass', 'brass_instrument', 'oboe_da_caccia', 'double-reed_instrument', 'double_reed', 'clarinet', 'panpipe', 'pandean_pipe', 'syrinx', 'rain_stick', 'organ', 'pipe_organ', 'flute', 'transverse_flute', 'sitar', 'Stradavarius', 'Strad', 'bombardon', 'bombard', 'flageolet', 'treble_recorder', \"shepherd's_pipe\", 'music_box', 'musical_box', 'synthesizer', 'synthesiser', 'acoustic_guitar', 'piano', 'pianoforte', 'forte-piano', 'oboe', 'hautboy', 'hautbois', 'uke', 'ukulele', 'electric_guitar', 'maraca', 'guitar', 'euphonium', 'free-reed_instrument', 'electronic_instrument', 'electronic_musical_instrument', 'lute', 'gong', 'tam-tam', 'English_horn', 'cor_anglais', 'B-flat_clarinet', 'licorice_stick', 'samisen', 'shamisen', 'shawm', 'woodwind', 'woodwind_instrument', 'wood', 'heckelphone', 'basset_oboe', 'vibraphone', 'vibraharp', 'vibes', 'chime', 'bell', 'gong', 'bongo', 'bongo_drum', 'ocarina', 'sweet_potato', 'Hawaiian_guitar', 'steel_guitar', 'musette_pipe', 'single-reed_instrument', 'single-reed_woodwind', 'viol', 'lyre', 'pipe', 'bassoon', 'piccolo', 'drum', 'membranophone', 'tympan', 'tabor_pipe', 'musical_instrument', 'instrument', 'psaltery', 'kazoo', 'tambour', 'sackbut', 'harmonica', 'mouth_organ', 'harp', 'mouth_harp', 'steel_drum', 'accordion', 'piano_accordion', 'squeeze_box', 'trombone', 'bass_fiddle', 'bass_viol', 'bull_fiddle', 'double_bass', 'contrabass', 'string_bass', 'spinet', 'concert_grand', 'concert_piano', 'krummhorn', 'crumhorn', 'cromorne', 'timbrel', 'zither', 'cither', 'zithern', 'tenoroon', 'flue_pipe', 'flue', 'labial_pipe', 'celesta', 'French_horn', 'horn', 'harp', 'glockenspiel', 'orchestral_bells', 'chordophone', 'cymbal']\n"
     ]
    }
   ],
   "source": [
    "print(musical_instruments)"
   ]
  },
  {
   "cell_type": "markdown",
   "metadata": {},
   "source": [
    "## Обработка корпуса"
   ]
  },
  {
   "cell_type": "code",
   "execution_count": 128,
   "metadata": {},
   "outputs": [],
   "source": [
    "import spacy"
   ]
  },
  {
   "cell_type": "code",
   "execution_count": 133,
   "metadata": {},
   "outputs": [],
   "source": [
    "nlp = spacy.load(\"en_core_web_sm\", disable=[\"parser\", \"ner\"])"
   ]
  },
  {
   "cell_type": "code",
   "execution_count": 150,
   "metadata": {},
   "outputs": [
    {
     "data": {
      "application/vnd.jupyter.widget-view+json": {
       "model_id": "1ad3b34af86942be8e1ad70b73a22c56",
       "version_major": 2,
       "version_minor": 0
      },
      "text/plain": [
       "HBox(children=(IntProgress(value=0, max=231344), HTML(value='')))"
      ]
     },
     "metadata": {},
     "output_type": "display_data"
    }
   ],
   "source": [
    "corpus_processed = []\n",
    "\n",
    "for text in tqdm(corpus):\n",
    "    corpus_processed.append(nlp(text))"
   ]
  },
  {
   "cell_type": "code",
   "execution_count": 151,
   "metadata": {},
   "outputs": [],
   "source": [
    "# with open('corpus_processed.pickle', 'wb') as f:\n",
    "#     pickle.dump(corpus_processed, f)"
   ]
  },
  {
   "cell_type": "code",
   "execution_count": 240,
   "metadata": {},
   "outputs": [
    {
     "name": "stdout",
     "output_type": "stream",
     "text": [
      "It -PRON- PRON True\n",
      "'s be AUX True\n",
      "good good ADJ False\n",
      "for for ADP True\n",
      "beginners beginner NOUN False\n"
     ]
    }
   ],
   "source": [
    "for token in corpus_processed[0]:\n",
    "    print(token.text, token.lemma_, token.pos_, token.is_stop)"
   ]
  },
  {
   "cell_type": "markdown",
   "metadata": {},
   "source": [
    "### Смотрю на самые частотные слова (и существительные)"
   ]
  },
  {
   "cell_type": "code",
   "execution_count": 165,
   "metadata": {},
   "outputs": [
    {
     "data": {
      "application/vnd.jupyter.widget-view+json": {
       "model_id": "13fb860fa702417897072e6fa3a87e3f",
       "version_major": 2,
       "version_minor": 0
      },
      "text/plain": [
       "HBox(children=(IntProgress(value=0, max=231344), HTML(value='')))"
      ]
     },
     "metadata": {},
     "output_type": "display_data"
    },
    {
     "data": {
      "text/plain": [
       "15629086"
      ]
     },
     "execution_count": 165,
     "metadata": {},
     "output_type": "execute_result"
    }
   ],
   "source": [
    "lemmas = []\n",
    "\n",
    "for doc in tqdm(corpus_processed):\n",
    "    for token in doc:\n",
    "        lemmas.append((token.lemma_, token.pos_))\n",
    "        \n",
    "len(lemmas)"
   ]
  },
  {
   "cell_type": "code",
   "execution_count": 170,
   "metadata": {},
   "outputs": [],
   "source": [
    "freq = Counter(lemmas)"
   ]
  },
  {
   "cell_type": "code",
   "execution_count": 183,
   "metadata": {},
   "outputs": [
    {
     "data": {
      "text/plain": [
       "4784"
      ]
     },
     "execution_count": 183,
     "metadata": {},
     "output_type": "execute_result"
    }
   ],
   "source": [
    "top_words_tagged = []\n",
    "top_nouns_tagged = []\n",
    "for w_t, f in freq.most_common(5000):\n",
    "    w, t = w_t\n",
    "    if w not in stops and w not in string.punctuation:\n",
    "        top_words_tagged.append(w)\n",
    "        if t == 'NOUN':\n",
    "            top_nouns_tagged.append(w)\n",
    "len(top_words_tagged)"
   ]
  },
  {
   "cell_type": "code",
   "execution_count": 184,
   "metadata": {},
   "outputs": [
    {
     "data": {
      "text/plain": [
       "1874"
      ]
     },
     "execution_count": 184,
     "metadata": {},
     "output_type": "execute_result"
    }
   ],
   "source": [
    "len(top_nouns_tagged)"
   ]
  },
  {
   "cell_type": "code",
   "execution_count": 308,
   "metadata": {},
   "outputs": [
    {
     "data": {
      "text/plain": [
       "['guitar',\n",
       " 'string',\n",
       " 'sound',\n",
       " 'price',\n",
       " 'pedal',\n",
       " 'quality',\n",
       " 'time',\n",
       " 'one',\n",
       " 'product',\n",
       " 'amp',\n",
       " 'cable',\n",
       " 'tone',\n",
       " 'thing',\n",
       " 'year',\n",
       " 'case',\n",
       " 'pick',\n",
       " 'stand',\n",
       " 'bass',\n",
       " 'lot',\n",
       " 'way',\n",
       " 'instrument',\n",
       " 'bit',\n",
       " 'strap',\n",
       " 'mic',\n",
       " 'tuner',\n",
       " 'problem',\n",
       " 'set',\n",
       " 'power',\n",
       " 'review',\n",
       " 'effect',\n",
       " 'music',\n",
       " 'unit',\n",
       " 'end',\n",
       " 'speaker',\n",
       " 'money',\n",
       " 'volume',\n",
       " 'neck',\n",
       " 'issue',\n",
       " 'bag',\n",
       " 'box',\n",
       " 'work',\n",
       " 'use',\n",
       " 'size',\n",
       " 'star',\n",
       " 'microphone',\n",
       " 'light',\n",
       " 'drum',\n",
       " 'job',\n",
       " 'noise',\n",
       " 'pickup',\n",
       " 'day',\n",
       " 'brand',\n",
       " 'head',\n",
       " 'side',\n",
       " 'battery',\n",
       " 'gig',\n",
       " 'knob',\n",
       " 'hand',\n",
       " 'board',\n",
       " 'metal',\n",
       " 'part',\n",
       " 'control',\n",
       " 'tune',\n",
       " 'player',\n",
       " 'keyboard',\n",
       " 'studio',\n",
       " 'recording',\n",
       " 'month',\n",
       " 'note',\n",
       " 'tube',\n",
       " 'plastic',\n",
       " 'item',\n",
       " 'device',\n",
       " 'color',\n",
       " 'tuning',\n",
       " 'difference',\n",
       " 'level',\n",
       " 'finger',\n",
       " 'hole',\n",
       " 'piece',\n",
       " 'feature',\n",
       " 'switch',\n",
       " 'model',\n",
       " 'couple',\n",
       " 'room',\n",
       " 'input',\n",
       " 'people',\n",
       " 'screw',\n",
       " 'deal',\n",
       " 'button',\n",
       " 'setting',\n",
       " 'capo',\n",
       " 'bridge',\n",
       " 'home',\n",
       " 'band',\n",
       " 'range',\n",
       " 'line',\n",
       " 'type',\n",
       " 'style',\n",
       " 'point']"
      ]
     },
     "execution_count": 308,
     "metadata": {},
     "output_type": "execute_result"
    }
   ],
   "source": [
    "top_nouns_tagged[:100]"
   ]
  },
  {
   "cell_type": "markdown",
   "metadata": {},
   "source": [
    "Пересекаю частотные слова и список лемм из WN"
   ]
  },
  {
   "cell_type": "code",
   "execution_count": 203,
   "metadata": {},
   "outputs": [
    {
     "data": {
      "text/plain": [
       "['wind',\n",
       " 'tambourine',\n",
       " 'sax',\n",
       " 'recorder',\n",
       " 'bass',\n",
       " 'harp',\n",
       " 'flute',\n",
       " 'chime',\n",
       " 'mandolin',\n",
       " 'ukulele',\n",
       " 'clarinet',\n",
       " 'snare',\n",
       " 'banjo',\n",
       " 'synthesizer',\n",
       " 'dulcimer',\n",
       " 'string',\n",
       " 'reed',\n",
       " 'pipe',\n",
       " 'fiddle',\n",
       " 'instrument',\n",
       " 'cello',\n",
       " 'drum',\n",
       " 'baritone',\n",
       " 'grand',\n",
       " 'horn',\n",
       " 'cymbal',\n",
       " 'brass',\n",
       " 'organ',\n",
       " 'trombone',\n",
       " 'harmonica',\n",
       " 'saxophone',\n",
       " 'upright',\n",
       " 'bongo',\n",
       " 'piano',\n",
       " 'triangle',\n",
       " 'whistle',\n",
       " 'trumpet',\n",
       " 'guitar',\n",
       " 'violin',\n",
       " 'wood',\n",
       " 'uke',\n",
       " 'bell']"
      ]
     },
     "execution_count": 203,
     "metadata": {},
     "output_type": "execute_result"
    }
   ],
   "source": [
    "instr = list(set([i for i in top_words_tagged if i in musical_instruments]))\n",
    "print(instr)"
   ]
  },
  {
   "cell_type": "markdown",
   "metadata": {},
   "source": [
    "# Получение колокаций"
   ]
  },
  {
   "cell_type": "code",
   "execution_count": 309,
   "metadata": {},
   "outputs": [],
   "source": [
    "from spacy.matcher import Matcher"
   ]
  },
  {
   "cell_type": "markdown",
   "metadata": {},
   "source": [
    "### смотрю на упонинания инструментов и существительных на -or/-er с имеами собственными"
   ]
  },
  {
   "cell_type": "code",
   "execution_count": 253,
   "metadata": {},
   "outputs": [
    {
     "data": {
      "application/vnd.jupyter.widget-view+json": {
       "model_id": "17d75e09b571463db3eea485cdebccf4",
       "version_major": 2,
       "version_minor": 0
      },
      "text/plain": [
       "HBox(children=(IntProgress(value=0, max=231344), HTML(value='')))"
      ]
     },
     "metadata": {},
     "output_type": "display_data"
    },
    {
     "data": {
      "text/plain": [
       "2036"
      ]
     },
     "execution_count": 253,
     "metadata": {},
     "output_type": "execute_result"
    }
   ],
   "source": [
    "left_propn_nouner = [{'POS': 'ADJ'},\n",
    "                    {'POS': 'PROPN'},\n",
    "                    {'POS': 'NOUN', 'LEMMA': {\"REGEX\": \"[eo]r$\"}}]\n",
    "\n",
    "left_propn_instr = [{'POS': 'ADJ'},\n",
    "                   {'POS': 'PROPN'},\n",
    "                   {\"LEMMA\": {\"IN\": instr}}]\n",
    "\n",
    "ne_matcher = Matcher(nlp.vocab)\n",
    "ne_matcher.add(\"left_PROPN_er\", None, left_propn_nouner)\n",
    "ne_matcher.add(\"left_PROPN_instr\", None, left_propn_instr)\n",
    "\n",
    "\n",
    "propn_matches = []\n",
    "\n",
    "for doc in tqdm(corpus_processed):\n",
    "    matches = ne_matcher(doc)\n",
    "\n",
    "    for match_id, start, end in matches:\n",
    "        # string_id = nlp.vocab.strings[match_id]  # Get string representation\n",
    "        span = doc[start:end]  # The matched span\n",
    "        propn_matches.append(span.text)\n",
    "        \n",
    "len(propn_matches)"
   ]
  },
  {
   "cell_type": "code",
   "execution_count": 254,
   "metadata": {},
   "outputs": [
    {
     "data": {
      "text/plain": [
       "['inferior Firebrand uke',\n",
       " 'loyal yamaha consumer',\n",
       " 'new Switchcraft connector',\n",
       " 'multiple Hosa adapters',\n",
       " 'second Hosa guitar',\n",
       " 'cheap XLR connectors',\n",
       " 'dedicated mic splitter',\n",
       " 'old Rickenbacker guitar',\n",
       " 'powered PA loudspeaker',\n",
       " 'old Sony reciever',\n",
       " 'little Zenergy chimes',\n",
       " 'little Zenergy chimes',\n",
       " 'little Zenergy chimes',\n",
       " 'little Zenergy chimes',\n",
       " 'little Zenergy chimes',\n",
       " 'little Zenergy chimes',\n",
       " 'little Zenergy chimes',\n",
       " 'little Zenergy chimes',\n",
       " 'little Zenergy chimes',\n",
       " 'little Zenergy chimes',\n",
       " 'little Zenergy chimes',\n",
       " 'little Zenergy chimes',\n",
       " 'little Zenergy chimes',\n",
       " 'little Zenergy chimes',\n",
       " 'little Zenergy chimes',\n",
       " 'little Zenergy chimes',\n",
       " 'little Zenergy chimes',\n",
       " 'old Sony reciever',\n",
       " 'real Shure instrument',\n",
       " 'sized Phillips screwdriver',\n",
       " 'other Casio power',\n",
       " 'standard Technics rubber',\n",
       " '1U decibel meter',\n",
       " 'wireless mic transmitter',\n",
       " 'big bell horn',\n",
       " \"pricier D'Addario strings\",\n",
       " 'high e string',\n",
       " 'old Sony speaker',\n",
       " 'nice Fender bell',\n",
       " 'old Sony speaker',\n",
       " 'standard AC adapter',\n",
       " 'tjat GHS strings',\n",
       " 'more Martin strings',\n",
       " 'cheap Gibson guitars',\n",
       " 'old Parlor guitar',\n",
       " 'cheap arse drum',\n",
       " 'low B string',\n",
       " 'low B string',\n",
       " 'new SP strings',\n",
       " 'awesome Gator customer',\n",
       " 'low E string',\n",
       " 'fro Jazz players',\n",
       " 'third ABY selector',\n",
       " 'fro Jazz players',\n",
       " 'cheap Yamaha guitar',\n",
       " 'conventional Vandoren reeds',\n",
       " 'low E string',\n",
       " 'few Martin guitars',\n",
       " 'standard Martin string',\n",
       " 'good guitar strings',\n",
       " 'best dang guitar',\n",
       " 'acoustic SP strings',\n",
       " 'old Firestone rubber',\n",
       " 'exotic zebrawood guitar',\n",
       " 'old Martin guitars',\n",
       " 'other Amazon customers',\n",
       " 'cheap Estaban guitar',\n",
       " 'mini Grover tuners',\n",
       " 'closest Gibson dealer',\n",
       " 'same Dunlop guitar',\n",
       " 'old standby string',\n",
       " 'high e string',\n",
       " 'cheap basic guitar',\n",
       " 'medium Gibson strings',\n",
       " 'simple nylon guitar',\n",
       " 'heavy Hofner bass',\n",
       " 'cheaper vandoren reeds',\n",
       " 'large DC power',\n",
       " 'small DIY humidifiers',\n",
       " 'cold Wisconsin winter',\n",
       " 'nice Taylor guitars',\n",
       " 'plain jane guitar',\n",
       " 'new PDP drum',\n",
       " 'traditional Vandoren reeds',\n",
       " 'traditional Vandoren reeds',\n",
       " 'classic Gibson guitars',\n",
       " 'first Martin banjo',\n",
       " 'classic mp producers',\n",
       " 'new Ibanez bass',\n",
       " 'red Fasel inductor',\n",
       " 'former SVT owner',\n",
       " 'Large Diaphragm condenser',\n",
       " 'standard Fender bass',\n",
       " 'new Squier bass',\n",
       " 'electromatic Gretsch bass',\n",
       " 'many Amazon users',\n",
       " 'cheap Danelectro compressor',\n",
       " 'good dB meter',\n",
       " 'many Fender guitars',\n",
       " 'high E string']"
      ]
     },
     "execution_count": 254,
     "metadata": {},
     "output_type": "execute_result"
    }
   ],
   "source": [
    "propn_matches[:100]"
   ]
  },
  {
   "cell_type": "markdown",
   "metadata": {},
   "source": [
    "### ищу 4 основных шаблона с прилагательными\n",
    "т.к. именно они выражают оценку/харатеристику - то, что нужно в отчете\n",
    "\n",
    "коллокации работают сильно хуже, см. ниже"
   ]
  },
  {
   "cell_type": "code",
   "execution_count": 234,
   "metadata": {},
   "outputs": [],
   "source": [
    "adj_instr = [{'POS': 'ADJ'}, \n",
    "             {\"LEMMA\": {\"IN\": instr}}]\n",
    "doubleadj_instr = [{'POS': 'ADJ'}, \n",
    "                   {'POS': 'ADJ'},\n",
    "                   {\"LEMMA\": {\"IN\": instr}}]\n",
    "adv_adj_instr = [{'POS': 'ADV'}, \n",
    "                   {'POS': 'ADJ'},\n",
    "                   {\"LEMMA\": {\"IN\": instr}}]\n",
    "instr_be_smth = [{\"LEMMA\": {\"IN\": instr}},\n",
    "                 {'LEMMA': 'be'}, \n",
    "                 {'POS': {\"IN\": ['ADJ', 'NOUN']}}]\n",
    "\n",
    "matcher = Matcher(nlp.vocab)\n",
    "matcher.add(\"ADJ_instr\", None, adj_instr)\n",
    "matcher.add(\"doubleADJ_instr\", None, doubleadj_instr)\n",
    "matcher.add(\"ADV_ADJ_instr\", None, adv_adj_instr)\n",
    "matcher.add(\"instr_be_smth\", None, instr_be_smth)"
   ]
  },
  {
   "cell_type": "code",
   "execution_count": 242,
   "metadata": {},
   "outputs": [
    {
     "data": {
      "application/vnd.jupyter.widget-view+json": {
       "model_id": "46ee284bb8b4435799e25b5e313dbda3",
       "version_major": 2,
       "version_minor": 0
      },
      "text/plain": [
       "HBox(children=(IntProgress(value=0, max=231344), HTML(value='')))"
      ]
     },
     "metadata": {},
     "output_type": "display_data"
    },
    {
     "data": {
      "text/plain": [
       "62704"
      ]
     },
     "execution_count": 242,
     "metadata": {},
     "output_type": "execute_result"
    }
   ],
   "source": [
    "all_matches = []\n",
    "\n",
    "for doc in tqdm(corpus_processed):\n",
    "    matches = matcher(doc)\n",
    "\n",
    "    for match_id, start, end in matches:\n",
    "        # string_id = nlp.vocab.strings[match_id]  # Get string representation\n",
    "        span = doc[start:end]  # The matched span\n",
    "        all_matches.append(span.text)\n",
    "        \n",
    "len(all_matches)"
   ]
  },
  {
   "cell_type": "code",
   "execution_count": 243,
   "metadata": {},
   "outputs": [],
   "source": [
    "matches_c = Counter(all_matches)\n",
    "sorted_matches = matches_c.most_common()"
   ]
  },
  {
   "cell_type": "markdown",
   "metadata": {},
   "source": [
    "### Получается вот такой отчет"
   ]
  },
  {
   "cell_type": "code",
   "execution_count": 244,
   "metadata": {},
   "outputs": [],
   "source": [
    "reviews = {}\n",
    "for ins in instr:\n",
    "    reviews[ins] = []\n",
    "\n",
    "for m, f in sorted_matches:\n",
    "    for ins in instr:\n",
    "        if ins in m:\n",
    "            reviews[ins].append({'phrase': m,\n",
    "                                 'count': f})"
   ]
  },
  {
   "cell_type": "code",
   "execution_count": 315,
   "metadata": {},
   "outputs": [],
   "source": [
    "from pprint import pprint"
   ]
  },
  {
   "cell_type": "code",
   "execution_count": 326,
   "metadata": {
    "scrolled": false
   },
   "outputs": [
    {
     "name": "stdout",
     "output_type": "stream",
     "text": [
      "[{'count': 2552, 'phrase': 'acoustic guitar'},\n",
      " {'count': 1802, 'phrase': 'electric guitar'},\n",
      " {'count': 846, 'phrase': 'acoustic guitars'},\n",
      " {'count': 748, 'phrase': 'electric guitars'},\n",
      " {'count': 645, 'phrase': 'classical guitar'},\n",
      " {'count': 432, 'phrase': 'other guitars'},\n",
      " {'count': 415, 'phrase': 'new guitar'},\n",
      " {'count': 372, 'phrase': 'great guitar'},\n",
      " {'count': 252, 'phrase': 'other guitar'},\n",
      " {'count': 232, 'phrase': 'good guitar'},\n",
      " {'count': 225, 'phrase': 'cheap guitar'},\n",
      " {'count': 205, 'phrase': 'nice guitar'},\n",
      " {'count': 200, 'phrase': 'first guitar'},\n",
      " {'count': 189, 'phrase': 'favorite guitar'},\n",
      " {'count': 185, 'phrase': 'different guitars'},\n",
      " {'count': 177, 'phrase': 'little guitar'},\n",
      " {'count': 173, 'phrase': 'best guitar'},\n",
      " {'count': 171, 'phrase': 'Great guitar'},\n",
      " {'count': 168, 'phrase': 'local guitar'},\n",
      " {'count': 151, 'phrase': 'expensive guitar'}]\n",
      "\n",
      "\n",
      "[{'count': 98, 'phrase': 'electronic drum'},\n",
      " {'count': 56, 'phrase': 'electronic drums'},\n",
      " {'count': 49, 'phrase': 'other drum'},\n",
      " {'count': 34, 'phrase': 'great drum'},\n",
      " {'count': 34, 'phrase': 'best drum'},\n",
      " {'count': 34, 'phrase': 'Great drum'},\n",
      " {'count': 31, 'phrase': 'real drum'},\n",
      " {'count': 26, 'phrase': 'good drum'},\n",
      " {'count': 25, 'phrase': 'different drum'},\n",
      " {'count': 24, 'phrase': 'acoustic drums'},\n",
      " {'count': 23, 'phrase': 'electric drum'},\n",
      " {'count': 21, 'phrase': 'new drum'},\n",
      " {'count': 18, 'phrase': 'real drums'},\n",
      " {'count': 16, 'phrase': 'own drum'},\n",
      " {'count': 16, 'phrase': 'acoustic drum'},\n",
      " {'count': 16, 'phrase': 'electric drums'},\n",
      " {'count': 16, 'phrase': 'first drum'},\n",
      " {'count': 15, 'phrase': 'standard drum'},\n",
      " {'count': 15, 'phrase': 'little drum'},\n",
      " {'count': 12, 'phrase': 'live drums'}]\n",
      "\n",
      "\n",
      "[{'count': 5, 'phrase': 'new sax'},\n",
      " {'count': 3, 'phrase': 'most saxophones'},\n",
      " {'count': 3, 'phrase': 'professional sax'},\n",
      " {'count': 3, 'phrase': 'first sax'},\n",
      " {'count': 3, 'phrase': 'other sax'},\n",
      " {'count': 3, 'phrase': 'terrific saxophone'},\n",
      " {'count': 2, 'phrase': 'classical sax'},\n",
      " {'count': 2, 'phrase': 'classical saxophone'},\n",
      " {'count': 2, 'phrase': 'whole sax'},\n",
      " {'count': 2, 'phrase': 'expensive sax'},\n",
      " {'count': 2, 'phrase': 'basic sax'},\n",
      " {'count': 2, 'phrase': 'pro sax'},\n",
      " {'count': 2, 'phrase': 'old saxophone'},\n",
      " {'count': 2, 'phrase': 'local sax'},\n",
      " {'count': 2, 'phrase': 'great saxophone'},\n",
      " {'count': 2, 'phrase': 'entire sax'},\n",
      " {'count': 2, 'phrase': 'sax is flush'},\n",
      " {'count': 2, 'phrase': 'single sax'},\n",
      " {'count': 2, 'phrase': 'multi-sax'},\n",
      " {'count': 2, 'phrase': '-sax'}]\n",
      "\n",
      "\n",
      "[{'count': 107, 'phrase': 'digital recorder'},\n",
      " {'count': 48, 'phrase': 'audio recorder'},\n",
      " {'count': 35, 'phrase': 'portable recorder'},\n",
      " {'count': 35, 'phrase': 'little recorder'},\n",
      " {'count': 23, 'phrase': 'digital recorders'},\n",
      " {'count': 21, 'phrase': 'other recorders'},\n",
      " {'count': 18, 'phrase': 'plastic recorders'},\n",
      " {'count': 17, 'phrase': 'great recorder'},\n",
      " {'count': 17, 'phrase': '-track recorder'},\n",
      " {'count': 17, 'phrase': 'track recorder'},\n",
      " {'count': 14, 'phrase': 'audio recorders'},\n",
      " {'count': 14, 'phrase': 'multitrack recorder'},\n",
      " {'count': 12, 'phrase': 'portable recorders'},\n",
      " {'count': 11, 'phrase': 'Great recorder'},\n",
      " {'count': 10, 'phrase': 'plastic recorder'},\n",
      " {'count': 10, 'phrase': 'good recorder'},\n",
      " {'count': 10, 'phrase': 'digital audio recorder'},\n",
      " {'count': 7, 'phrase': 'stereo recorder'},\n",
      " {'count': 7, 'phrase': 'wooden recorder'},\n",
      " {'count': 7, 'phrase': 'first recorder'}]\n",
      "\n",
      "\n",
      "[{'count': 1056, 'phrase': 'Great strings'},\n",
      " {'count': 797, 'phrase': 'other strings'},\n",
      " {'count': 643, 'phrase': 'great strings'},\n",
      " {'count': 607, 'phrase': 'new strings'},\n",
      " {'count': 555, 'phrase': 'best strings'},\n",
      " {'count': 530, 'phrase': 'good strings'},\n",
      " {'count': 379, 'phrase': 'coated strings'},\n",
      " {'count': 371, 'phrase': 'Good strings'},\n",
      " {'count': 313, 'phrase': 'favorite strings'},\n",
      " {'count': 269, 'phrase': 'acoustic strings'},\n",
      " {'count': 266, 'phrase': 'Best strings'},\n",
      " {'count': 263, 'phrase': 'light strings'},\n",
      " {'count': 217, 'phrase': 'only strings'},\n",
      " {'count': 201, 'phrase': 'nice strings'},\n",
      " {'count': 199, 'phrase': 'other string'},\n",
      " {'count': 173, 'phrase': 'strings are great'},\n",
      " {'count': 173, 'phrase': 'different strings'},\n",
      " {'count': 140, 'phrase': 'Excellent strings'},\n",
      " {'count': 140, 'phrase': 'extra strings'},\n",
      " {'count': 139, 'phrase': 'better strings'}]\n",
      "\n",
      "\n"
     ]
    }
   ],
   "source": [
    "for i in ['guitar', 'drum', 'sax', 'recorder', 'string']:\n",
    "    pprint(reviews[i][:20])\n",
    "    print('\\n')"
   ]
  },
  {
   "cell_type": "markdown",
   "metadata": {},
   "source": [
    "Сохраняю его в .json файл"
   ]
  },
  {
   "cell_type": "code",
   "execution_count": 310,
   "metadata": {},
   "outputs": [],
   "source": [
    "import json"
   ]
  },
  {
   "cell_type": "code",
   "execution_count": 322,
   "metadata": {},
   "outputs": [],
   "source": [
    "with open('reviews.json', 'w') as f:\n",
    "    json.dump(reviews, f, indent=2)"
   ]
  },
  {
   "cell_type": "markdown",
   "metadata": {},
   "source": [
    "## Биграммы\n",
    "\n",
    "Не очень понимаю зачем так грубо брать контекст, но вот он"
   ]
  },
  {
   "cell_type": "code",
   "execution_count": 225,
   "metadata": {},
   "outputs": [
    {
     "data": {
      "application/vnd.jupyter.widget-view+json": {
       "model_id": "eb55879303a744bb9d1dc4f2acafaf06",
       "version_major": 2,
       "version_minor": 0
      },
      "text/plain": [
       "HBox(children=(IntProgress(value=0, max=231344), HTML(value='')))"
      ]
     },
     "metadata": {},
     "output_type": "display_data"
    },
    {
     "data": {
      "text/plain": [
       "355482"
      ]
     },
     "execution_count": 225,
     "metadata": {},
     "output_type": "execute_result"
    }
   ],
   "source": [
    "left_context = [{'IS_PUNCT': False},\n",
    "                {\"LEMMA\": {\"IN\": instr}}]\n",
    "right_context = [{\"LEMMA\": {\"IN\": instr}},\n",
    "                 {'IS_PUNCT': False}]\n",
    "\n",
    "context_matcher = Matcher(nlp.vocab)\n",
    "context_matcher.add(\"left_context\", None, left_context)\n",
    "context_matcher.add(\"right_context\", None, right_context)\n",
    "\n",
    "all_context = []\n",
    "\n",
    "for doc in tqdm(corpus_processed):\n",
    "    matches = context_matcher(doc)\n",
    "\n",
    "    for match_id, start, end in matches:\n",
    "        # string_id = nlp.vocab.strings[match_id]  # Get string representation\n",
    "        span = doc[start:end]  # The matched span\n",
    "        all_context.append(span.text)\n",
    "        \n",
    "len(all_context)"
   ]
  },
  {
   "cell_type": "code",
   "execution_count": 230,
   "metadata": {},
   "outputs": [
    {
     "data": {
      "text/plain": [
       "[('the guitar', 8934),\n",
       " ('the strings', 6238),\n",
       " ('my guitar', 5708),\n",
       " ('these strings', 4944),\n",
       " ('a guitar', 3965),\n",
       " ('guitar and', 3635),\n",
       " ('your guitar', 3476),\n",
       " ('this guitar', 2939),\n",
       " ('strings are', 2818),\n",
       " ('acoustic guitar', 2559)]"
      ]
     },
     "execution_count": 230,
     "metadata": {},
     "output_type": "execute_result"
    }
   ],
   "source": [
    "contexts = Counter(all_context)\n",
    "contexts.most_common(10)"
   ]
  },
  {
   "cell_type": "code",
   "execution_count": 255,
   "metadata": {},
   "outputs": [],
   "source": [
    "from nltk.collocations import *"
   ]
  },
  {
   "cell_type": "code",
   "execution_count": 278,
   "metadata": {},
   "outputs": [],
   "source": [
    "bigram_measures = nltk.collocations.BigramAssocMeasures()"
   ]
  },
  {
   "cell_type": "code",
   "execution_count": 301,
   "metadata": {},
   "outputs": [
    {
     "data": {
      "text/plain": [
       "[['stringed', 'instrument'],\n",
       " ['stringed', 'instrument'],\n",
       " ['strings', 'really'],\n",
       " ['uke', 'held'],\n",
       " ['laminated', 'instrument'],\n",
       " ['unknown', 'wood'],\n",
       " ['soprano', 'ukes'],\n",
       " ['ukes', 'generally'],\n",
       " ['specialty', 'ukulele'],\n",
       " ['ukulele', 'shop']]"
      ]
     },
     "execution_count": 301,
     "metadata": {},
     "output_type": "execute_result"
    }
   ],
   "source": [
    "ngrams = []\n",
    "for c in all_context:\n",
    "    n = 0\n",
    "    words = c.lower().split()\n",
    "    for w in words:\n",
    "        if w in stops:\n",
    "            n += 1\n",
    "    if n == 0:\n",
    "        ngrams.append(words)\n",
    "    \n",
    "ngrams[:10]"
   ]
  },
  {
   "cell_type": "code",
   "execution_count": 302,
   "metadata": {},
   "outputs": [],
   "source": [
    "finder = BigramCollocationFinder.from_documents(ngrams)"
   ]
  },
  {
   "cell_type": "code",
   "execution_count": 303,
   "metadata": {},
   "outputs": [
    {
     "data": {
      "text/plain": [
       "[(('guitar', 'guitar'), 16480.719464277965),\n",
       " (('strings', 'guitar'), 10444.070288719724),\n",
       " (('strings', 'strings'), 6831.153462323573),\n",
       " (('guitar', 'bass'), 4569.310104011272),\n",
       " (('acoustic', 'guitar'), 4365.147320890128),\n",
       " (('great', 'strings'), 4207.626859105092),\n",
       " (('12', 'string'), 3602.89323876078),\n",
       " (('strings', 'string'), 3512.8326357940614),\n",
       " (('e', 'string'), 3446.696792048923),\n",
       " (('string', 'strings'), 3340.165883991948),\n",
       " (('guitar', 'string'), 3075.379070791222),\n",
       " (('guitar', 'strap'), 3072.4768184643426),\n",
       " ((\"d'addario\", 'strings'), 3039.273111044713),\n",
       " (('strings', 'bass'), 3011.300421064483),\n",
       " (('electric', 'guitar'), 2985.426071593826),\n",
       " (('drum', 'machine'), 2981.495152853903),\n",
       " (('guitar', 'guitars'), 2838.4472031379128),\n",
       " (('drum', 'kit'), 2390.2428881263527),\n",
       " (('g', 'string'), 2314.294717138254),\n",
       " (('drum', 'set'), 2295.4041980755655)]"
      ]
     },
     "execution_count": 303,
     "metadata": {},
     "output_type": "execute_result"
    }
   ],
   "source": [
    "ll_scores = finder.score_ngrams(bigram_measures.likelihood_ratio)\n",
    "ll_scores[:20]"
   ]
  },
  {
   "cell_type": "code",
   "execution_count": 305,
   "metadata": {},
   "outputs": [
    {
     "data": {
      "text/plain": [
       "[(('ta', 'uking'), 16.76051638283185),\n",
       " (('drummed', 'sense'), 16.345478883553007),\n",
       " ((\"'ve\", 'piped'), 14.76051638283185),\n",
       " (('dulcimers', 'singe'), 14.438588287944487),\n",
       " (('acute', 'triangles'), 14.345478883553007),\n",
       " (('enormous', 'triangles'), 14.345478883553007),\n",
       " (('raven', 'triangles'), 14.345478883553007),\n",
       " (('triangles', 'oh'), 14.345478883553007),\n",
       " (('throat', 'trumpets'), 14.258016042302668),\n",
       " (('squeaky', 'fiddles'), 14.175553882110695),\n",
       " (('carry', 'bongoes'), 14.023550788665645),\n",
       " (('pono', 'baritones'), 13.88604726491571),\n",
       " (('hour', 'piping'), 13.853625787223333),\n",
       " (('moon', 'tambourines'), 13.821916927495995),\n",
       " (('harmonium', 'organs'), 13.701622693778283),\n",
       " (('harpsichord', 'organs'), 13.701622693778283),\n",
       " (('johannus', 'organs'), 13.701622693778283),\n",
       " (('vital', 'organs'), 13.701622693778283),\n",
       " (('whistling', 'galore'), 13.645039165411914),\n",
       " (('chiming', 'highs'), 13.590591381389537)]"
      ]
     },
     "execution_count": 305,
     "metadata": {},
     "output_type": "execute_result"
    }
   ],
   "source": [
    "pmi_scores = finder.score_ngrams(bigram_measures.pmi)\n",
    "pmi_scores[:20]"
   ]
  },
  {
   "cell_type": "code",
   "execution_count": 306,
   "metadata": {},
   "outputs": [
    {
     "data": {
      "text/plain": [
       "[(('drummed', 'sense'), 0.5),\n",
       " (('ta', 'uking'), 0.5),\n",
       " (('pitch', 'pipe'), 0.43425076452599387),\n",
       " (('mountain', 'dulcimer'), 0.3865546218487395),\n",
       " (('zenergy', 'chimes'), 0.3008849557522124),\n",
       " (('chimes', 'sat'), 0.29310344827586204),\n",
       " ((\"'ve\", 'piped'), 0.2857142857142857),\n",
       " (('hour', 'piping'), 0.2857142857142857),\n",
       " (('pono', 'baritones'), 0.26666666666666666),\n",
       " (('bongo', 'cajon'), 0.24193548387096775),\n",
       " (('alto', 'sax'), 0.23926940639269406),\n",
       " (('tin', 'whistle'), 0.23295454545454544),\n",
       " (('hammered', 'dulcimer'), 0.22),\n",
       " (('note', 'chimes'), 0.21935483870967742),\n",
       " (('wind', 'screen'), 0.21871476888387825),\n",
       " (('analog', 'synthesizers'), 0.2127659574468085),\n",
       " (('wind', 'noise'), 0.21272365805168986),\n",
       " (('20', 'harmonicas'), 0.1875),\n",
       " (('mph', 'winds'), 0.17647058823529413),\n",
       " (('grand', 'piano'), 0.17510090034150885)]"
      ]
     },
     "execution_count": 306,
     "metadata": {},
     "output_type": "execute_result"
    }
   ],
   "source": [
    "dice_scores = finder.score_ngrams(bigram_measures.dice)\n",
    "dice_scores[:20]"
   ]
  },
  {
   "cell_type": "markdown",
   "metadata": {},
   "source": [
    "Мне кажется что PMI дает наиболее хороший результат в выделении NE, но для \"отчета\" для них надо еще раз взять контекст (оценочные прилагательные)."
   ]
  },
  {
   "cell_type": "markdown",
   "metadata": {},
   "source": [
    "*Анна Полянская, БКЛ171*"
   ]
  }
 ],
 "metadata": {
  "kernelspec": {
   "display_name": "Python 3",
   "language": "python",
   "name": "python3"
  },
  "language_info": {
   "codemirror_mode": {
    "name": "ipython",
    "version": 3
   },
   "file_extension": ".py",
   "mimetype": "text/x-python",
   "name": "python",
   "nbconvert_exporter": "python",
   "pygments_lexer": "ipython3",
   "version": "3.7.3"
  }
 },
 "nbformat": 4,
 "nbformat_minor": 2
}
