{
 "cells": [
  {
   "cell_type": "markdown",
   "metadata": {},
   "source": [
    "# Домашнее задание 1. Извлечение ключевых слов\n",
    "\n",
    "При выполнении домашнего задания можно пользоваться материалами лекций и семинаров.\n",
    "\n",
    "### Описание задания\n",
    "\n",
    "1. [X] (1 балл) Подготовить мини-корпус (4-5 текстов или до 10 тысяч токенов) с разметкой ключевых слов. \n",
    "Предполагается, что вы найдете источник текстов, в котором **уже выделены** ключевые слова.\n",
    "Укажите источник корпуса и опишите, в каком виде там были представлены ключевые слова. \n",
    "\n",
    "\n",
    "2. [X] (2 балла) Разметить ключевые слова самостоятельно. Оценить пересечение с имеющейся разметкой.\n",
    "Составить эталон разметки (например, пересечение или объединение вашей разметки и исходной).\n",
    "\n",
    "\n",
    "3. [X] (2 балла) Применить к этому корпусу 3 метода извлечения ключевых слов на выбор (RAKE, TextRank, tf*idf, OKAPI BM25, ...)\n",
    "\n",
    "\n",
    "4. [X] (2 балла) Составить морфологические/синтаксические шаблоны для ключевых слов и фраз, выделить соответствующие им подстроки из корпуса (например, именные группы Adj+Noun).\n",
    "Применить эти фильтры к спискам ключевых слов.\n",
    "\n",
    "\n",
    "5. [X] (2  балла) Оценить точность, полноту, F-меру выбранных методов относительно эталона:\n",
    "с учётом морфосинтаксических шаблонов и без них.\n",
    "\n",
    "\n",
    "6. [X] (1 балл) Описать ошибки автоматического выделения ключевых слов (что выделяется лишнее, что не выделяется);\n",
    "предложить свои методы решения этих проблем.\n",
    "\n",
    "### Критерии оценки\n",
    "\n",
    "В каждом пункте указано количество баллов.\n",
    "\n",
    "### Формат сдачи задания\n",
    "\n",
    "Jupyter-notebook на гитхабе (запишите адрес своего репозитория [сюда](https://docs.google.com/forms/d/e/1FAIpQLSfvoxiOKm9jnHO6v_ivGOeA3TKBT7Hg7bQlHa56MuALeMIcvQ/viewform?usp=sf_link))\n",
    "\n",
    "### Дедлайн\n",
    "\n",
    "9 ноября 2020 23:59мск"
   ]
  },
  {
   "cell_type": "markdown",
   "metadata": {},
   "source": [
    "## Данные\n",
    "\n",
    "В качестве данных были выбраны статьи из сборника конференции Dialogue [2019](http://www.dialog-21.ru/digest/2019/articles/) и [2020](http://www.dialog-21.ru/dialogue2020/results/dopmat/2020/scopus/) годов. Я взяла статьи на русском языке и сохранила их название, абстракт, список ключевых слов и заключение (ну и url на всякий случай). Все переносы строк заменила на пробелы просто для удобства хранения."
   ]
  },
  {
   "cell_type": "code",
   "execution_count": 1,
   "metadata": {},
   "outputs": [],
   "source": [
    "import pandas as pd"
   ]
  },
  {
   "cell_type": "code",
   "execution_count": 2,
   "metadata": {},
   "outputs": [],
   "source": [
    "data = pd.read_csv('data.tsv', sep='\\t')"
   ]
  },
  {
   "cell_type": "code",
   "execution_count": 3,
   "metadata": {
    "scrolled": false
   },
   "outputs": [],
   "source": [
    "# data"
   ]
  },
  {
   "cell_type": "code",
   "execution_count": 4,
   "metadata": {},
   "outputs": [],
   "source": [
    "def count_words(text):\n",
    "    return len(text.split())\n",
    "\n",
    "def count_keys(key_words):\n",
    "    return len(key_words.split(', '))"
   ]
  },
  {
   "cell_type": "markdown",
   "metadata": {},
   "source": [
    "Получается следующая характеристика корпуса:"
   ]
  },
  {
   "cell_type": "code",
   "execution_count": 5,
   "metadata": {},
   "outputs": [
    {
     "name": "stdout",
     "output_type": "stream",
     "text": [
      "Всег слов: 4178\n"
     ]
    },
    {
     "data": {
      "text/html": [
       "<div>\n",
       "<style scoped>\n",
       "    .dataframe tbody tr th:only-of-type {\n",
       "        vertical-align: middle;\n",
       "    }\n",
       "\n",
       "    .dataframe tbody tr th {\n",
       "        vertical-align: top;\n",
       "    }\n",
       "\n",
       "    .dataframe thead th {\n",
       "        text-align: right;\n",
       "    }\n",
       "</style>\n",
       "<table border=\"1\" class=\"dataframe\">\n",
       "  <thead>\n",
       "    <tr style=\"text-align: right;\">\n",
       "      <th></th>\n",
       "      <th>abs_len</th>\n",
       "      <th>conc_len</th>\n",
       "      <th>len</th>\n",
       "      <th>key_len</th>\n",
       "      <th>key_gram</th>\n",
       "    </tr>\n",
       "  </thead>\n",
       "  <tbody>\n",
       "    <tr>\n",
       "      <th>count</th>\n",
       "      <td>14.000000</td>\n",
       "      <td>14.000000</td>\n",
       "      <td>14.000000</td>\n",
       "      <td>14.000000</td>\n",
       "      <td>14.000000</td>\n",
       "    </tr>\n",
       "    <tr>\n",
       "      <th>mean</th>\n",
       "      <td>112.142857</td>\n",
       "      <td>186.285714</td>\n",
       "      <td>298.428571</td>\n",
       "      <td>5.142857</td>\n",
       "      <td>1.902976</td>\n",
       "    </tr>\n",
       "    <tr>\n",
       "      <th>std</th>\n",
       "      <td>44.500401</td>\n",
       "      <td>67.472420</td>\n",
       "      <td>90.597771</td>\n",
       "      <td>1.511858</td>\n",
       "      <td>0.336295</td>\n",
       "    </tr>\n",
       "    <tr>\n",
       "      <th>min</th>\n",
       "      <td>37.000000</td>\n",
       "      <td>85.000000</td>\n",
       "      <td>156.000000</td>\n",
       "      <td>3.000000</td>\n",
       "      <td>1.400000</td>\n",
       "    </tr>\n",
       "    <tr>\n",
       "      <th>25%</th>\n",
       "      <td>82.750000</td>\n",
       "      <td>142.750000</td>\n",
       "      <td>229.500000</td>\n",
       "      <td>4.000000</td>\n",
       "      <td>1.668750</td>\n",
       "    </tr>\n",
       "    <tr>\n",
       "      <th>50%</th>\n",
       "      <td>99.500000</td>\n",
       "      <td>190.500000</td>\n",
       "      <td>295.000000</td>\n",
       "      <td>5.000000</td>\n",
       "      <td>2.000000</td>\n",
       "    </tr>\n",
       "    <tr>\n",
       "      <th>75%</th>\n",
       "      <td>154.000000</td>\n",
       "      <td>241.500000</td>\n",
       "      <td>382.000000</td>\n",
       "      <td>6.000000</td>\n",
       "      <td>2.000000</td>\n",
       "    </tr>\n",
       "    <tr>\n",
       "      <th>max</th>\n",
       "      <td>179.000000</td>\n",
       "      <td>279.000000</td>\n",
       "      <td>418.000000</td>\n",
       "      <td>8.000000</td>\n",
       "      <td>2.500000</td>\n",
       "    </tr>\n",
       "  </tbody>\n",
       "</table>\n",
       "</div>"
      ],
      "text/plain": [
       "          abs_len    conc_len         len    key_len   key_gram\n",
       "count   14.000000   14.000000   14.000000  14.000000  14.000000\n",
       "mean   112.142857  186.285714  298.428571   5.142857   1.902976\n",
       "std     44.500401   67.472420   90.597771   1.511858   0.336295\n",
       "min     37.000000   85.000000  156.000000   3.000000   1.400000\n",
       "25%     82.750000  142.750000  229.500000   4.000000   1.668750\n",
       "50%     99.500000  190.500000  295.000000   5.000000   2.000000\n",
       "75%    154.000000  241.500000  382.000000   6.000000   2.000000\n",
       "max    179.000000  279.000000  418.000000   8.000000   2.500000"
      ]
     },
     "execution_count": 5,
     "metadata": {},
     "output_type": "execute_result"
    }
   ],
   "source": [
    "data['abs_len'] = data['abstract'].apply(count_words)\n",
    "data['conc_len'] = data['conclusion'].apply(count_words)\n",
    "data['len'] = data['abs_len'] + data['conc_len']\n",
    "print('Всег слов:', data['len'].sum())\n",
    "\n",
    "data['key_len'] = data['key_words'].apply(count_keys)\n",
    "data['key_gram'] = data['key_words'].apply(count_words) / data['key_len']\n",
    "\n",
    "data.describe()"
   ]
  },
  {
   "cell_type": "markdown",
   "metadata": {},
   "source": [
    "Ключевые слова являются в основном биграммами:"
   ]
  },
  {
   "cell_type": "code",
   "execution_count": 6,
   "metadata": {},
   "outputs": [
    {
     "name": "stdout",
     "output_type": "stream",
     "text": [
      "русский язык в начальной школе\n",
      "\n",
      "uni 17, bi 46, tri 8\n"
     ]
    }
   ],
   "source": [
    "uni = []\n",
    "bi = []\n",
    "tri = []\n",
    "\n",
    "for words in data['key_words']:\n",
    "    for key in words.split(', '):\n",
    "        l = len(key.split(' '))\n",
    "        if l == 1:\n",
    "            uni.append(key)\n",
    "        elif l == 2:\n",
    "            bi.append(key)\n",
    "        elif l == 3:\n",
    "            tri.append(key)\n",
    "        else:\n",
    "            print(key)\n",
    "\n",
    "print(f'\\nuni {len(uni)}, bi {len(bi)}, tri {len(tri)}')"
   ]
  },
  {
   "cell_type": "markdown",
   "metadata": {},
   "source": [
    "В качестве текста, из которого будут выделяться ключевые слова, я решила использовать склеенные вместе абстракт и заключение."
   ]
  },
  {
   "cell_type": "code",
   "execution_count": 7,
   "metadata": {},
   "outputs": [],
   "source": [
    "data['text'] = data['abstract'] + ' | ' + data['conclusion']"
   ]
  },
  {
   "cell_type": "code",
   "execution_count": 8,
   "metadata": {},
   "outputs": [],
   "source": [
    "# test = data['text'][0]\n",
    "# print(test)"
   ]
  },
  {
   "cell_type": "markdown",
   "metadata": {},
   "source": [
    "## Препроцессинг"
   ]
  },
  {
   "cell_type": "code",
   "execution_count": 9,
   "metadata": {},
   "outputs": [
    {
     "name": "stdout",
     "output_type": "stream",
     "text": [
      "['и', 'в', 'во', 'не', 'он', 'на', 'я', 'с', 'со', 'как', 'а', 'все', 'она', 'так', 'его', 'но', 'да', 'ты', 'к', 'у', 'же', 'вы', 'за', 'бы', 'по', 'только', 'ее', 'мне', 'было', 'вот', 'от', 'меня', 'еще', 'нет', 'о', 'из', 'ему', 'теперь', 'когда', 'даже', 'ну', 'вдруг', 'ли', 'если', 'уже', 'или', 'ни', 'быть', 'был', 'него', 'до', 'вас', 'нибудь', 'опять', 'уж', 'вам', 'ведь', 'там', 'себя', 'ничего', 'ей', 'может', 'они', 'тут', 'где', 'есть', 'надо', 'ней', 'для', 'мы', 'тебя', 'их', 'чем', 'была', 'сам', 'чтоб', 'без', 'будто', 'чего', 'раз', 'тоже', 'себе', 'под', 'будет', 'ж', 'тогда', 'кто', 'этот', 'того', 'потому', 'этого', 'какой', 'совсем', 'ним', 'здесь', 'этом', 'один', 'почти', 'мой', 'тем', 'чтобы', 'нее', 'сейчас', 'были', 'куда', 'зачем', 'всех', 'никогда', 'можно', 'при', 'наконец', 'два', 'об', 'другой', 'хоть', 'после', 'над', 'больше', 'тот', 'через', 'эти', 'нас', 'про', 'всего', 'них', 'какая', 'много', 'разве', 'три', 'эту', 'моя', 'впрочем', 'хорошо', 'свою', 'этой', 'перед', 'иногда', 'лучше', 'чуть', 'том', 'нельзя', 'такой', 'им', 'более', 'всегда', 'конечно', 'всю', 'между', 'как', 'который', 'публикация', 'работа', 'это', 'этот']\n"
     ]
    }
   ],
   "source": [
    "import re\n",
    "from razdel import tokenize\n",
    "\n",
    "from nltk.corpus import stopwords\n",
    "stops = stopwords.words(\"russian\")\n",
    "stops.extend(['как', 'который', 'публикация', 'работа', 'это', 'этот'])\n",
    "for w in ['что', 'то', 'потом']:\n",
    "    stops.remove(w)\n",
    "print(stops)\n",
    "\n",
    "from pymorphy2 import MorphAnalyzer\n",
    "from pymorphy2.tokenizers import simple_word_tokenize\n",
    "morph = MorphAnalyzer()\n",
    "\n",
    "from tqdm.auto import tqdm\n",
    "tqdm.pandas()"
   ]
  },
  {
   "cell_type": "code",
   "execution_count": 10,
   "metadata": {},
   "outputs": [],
   "source": [
    "def preprocess(text_data):   \n",
    "    \n",
    "    tokens = [_.text for _ in list(tokenize(str(text_data).lower()))] # if not re.search('[^а-яА-ЯёЁa-zA-z]', _.text)]\n",
    "    \n",
    "    lem_text = []\n",
    "    for word in tokens:\n",
    "        lem = morph.parse(word)[0].normal_form\n",
    "        lem_text.append(lem)\n",
    "        \n",
    "    return ' '.join(lem_text)"
   ]
  },
  {
   "cell_type": "code",
   "execution_count": 11,
   "metadata": {},
   "outputs": [
    {
     "data": {
      "application/vnd.jupyter.widget-view+json": {
       "model_id": "1abe7c5287144ac8949913328523e191",
       "version_major": 2,
       "version_minor": 0
      },
      "text/plain": [
       "HBox(children=(IntProgress(value=0, max=14), HTML(value='')))"
      ]
     },
     "metadata": {},
     "output_type": "display_data"
    },
    {
     "name": "stdout",
     "output_type": "stream",
     "text": [
      "\n"
     ]
    }
   ],
   "source": [
    "data['lem'] = data['text'].progress_apply(preprocess)"
   ]
  },
  {
   "cell_type": "markdown",
   "metadata": {},
   "source": [
    "Заодно нормализуем ключевые слова: лемматизируем и оставим всех по одному"
   ]
  },
  {
   "cell_type": "code",
   "execution_count": 12,
   "metadata": {},
   "outputs": [],
   "source": [
    "def normalize(key_words):\n",
    "    lem = preprocess(key_words)\n",
    "    return ' '.join(sorted(list(set([l for l in lem.split() if l != ',']))))\n",
    "\n",
    "def make_gold(key_words, my_keys, option='union'):\n",
    "    if option == 'union':\n",
    "        full_list = key_words.split()\n",
    "        full_list.extend(my_keys.split())\n",
    "    elif option == 'intersect':\n",
    "        full_list = list(set(key_words.split()) & set(my_keys.split()))\n",
    "    else:\n",
    "        print('такой опции нет')\n",
    "    return ' '.join(sorted(list(set(full_list))))"
   ]
  },
  {
   "cell_type": "code",
   "execution_count": 13,
   "metadata": {},
   "outputs": [
    {
     "name": "stdout",
     "output_type": "stream",
     "text": [
      "0     12\n",
      "1     12\n",
      "2     16\n",
      "3     11\n",
      "4     12\n",
      "5      9\n",
      "6      8\n",
      "7     15\n",
      "8     14\n",
      "9     18\n",
      "10     6\n",
      "11    12\n",
      "12     6\n",
      "13    11\n",
      "Name: gold_union, dtype: int64\n",
      "0     4\n",
      "1     5\n",
      "2     3\n",
      "3     2\n",
      "4     4\n",
      "5     6\n",
      "6     5\n",
      "7     2\n",
      "8     3\n",
      "9     2\n",
      "10    2\n",
      "11    2\n",
      "12    4\n",
      "13    2\n",
      "Name: gold_intersect, dtype: int64\n"
     ]
    }
   ],
   "source": [
    "data['norm_key_words'] = data['key_words'].apply(normalize)\n",
    "data['norm_my_keys'] = data['my_keys'].apply(normalize)\n",
    "\n",
    "for opt in ['union', 'intersect']:\n",
    "    data[f'gold_{opt}'] = data.apply(lambda x: make_gold(x['norm_key_words'],\n",
    "                                                         x['norm_my_keys'],\n",
    "                                                         option=opt), axis=1)\n",
    "    print(data[f'gold_{opt}'].apply(count_words))"
   ]
  },
  {
   "cell_type": "markdown",
   "metadata": {},
   "source": [
    "## Выделение ключевых слов"
   ]
  },
  {
   "cell_type": "code",
   "execution_count": 14,
   "metadata": {},
   "outputs": [],
   "source": [
    "import RAKE\n",
    "from summa import keywords\n",
    "from gensim.summarization import keywords as kw"
   ]
  },
  {
   "cell_type": "code",
   "execution_count": 15,
   "metadata": {},
   "outputs": [],
   "source": [
    "rake = RAKE.Rake(stops)\n",
    "\n",
    "def predict_rake(lem):\n",
    "    raw_pred = rake.run(lem, maxWords=3, minFrequency=2)\n",
    "    pred = ', '.join([p[0] for p in raw_pred])\n",
    "    if len(pred) == 0:\n",
    "        pred = 'none'\n",
    "    return pred"
   ]
  },
  {
   "cell_type": "code",
   "execution_count": 16,
   "metadata": {},
   "outputs": [],
   "source": [
    "def predict_textrank(lem):\n",
    "    raw_pred = kw(lem, pos_filter=[], scores=True)\n",
    "    pred = ', '.join([p[0] for p in raw_pred if p[0] not in stops])\n",
    "    if len(pred) == 0:\n",
    "        pred = 'none'\n",
    "    return pred"
   ]
  },
  {
   "cell_type": "code",
   "execution_count": 17,
   "metadata": {},
   "outputs": [],
   "source": [
    "def predict_summa(lem):\n",
    "    raw_pred = keywords.keywords(lem, language='russian', additional_stopwords=stops, scores=True)\n",
    "    pred = ', '.join([p[0] for p in raw_pred])\n",
    "    if len(pred) == 0:\n",
    "        pred = 'none'\n",
    "    return pred"
   ]
  },
  {
   "cell_type": "code",
   "execution_count": 18,
   "metadata": {},
   "outputs": [],
   "source": [
    "pipeline = {'rake': predict_rake, \n",
    "            'textrank': predict_textrank,\n",
    "            'summa': predict_summa} "
   ]
  },
  {
   "cell_type": "markdown",
   "metadata": {},
   "source": [
    "## Морфологические шаблоны\n",
    "\n",
    "т.к. я нормализую итоговые списки предсказанных ключевых слов, то можно применить к ним простой частеречный фильтр - оставить только те части речи, которые чаще всего встречаются в золотой разметке (`NOUN` и `ADJF`)"
   ]
  },
  {
   "cell_type": "code",
   "execution_count": 19,
   "metadata": {},
   "outputs": [],
   "source": [
    "from collections import Counter"
   ]
  },
  {
   "cell_type": "code",
   "execution_count": 20,
   "metadata": {},
   "outputs": [
    {
     "data": {
      "text/plain": [
       "[('NOUN', 101),\n",
       " ('ADJF', 50),\n",
       " ('INFN', 4),\n",
       " ('PREP', 3),\n",
       " ('ADVB', 2),\n",
       " (None, 1),\n",
       " ('NPRO', 1)]"
      ]
     },
     "execution_count": 20,
     "metadata": {},
     "output_type": "execute_result"
    }
   ],
   "source": [
    "allowed_pos = Counter()\n",
    "for key in ' '.join(data['gold_union']).split():\n",
    "    allowed_pos[morph.parse(key)[0].tag.POS] += 1\n",
    "    \n",
    "allowed_pos.most_common()"
   ]
  },
  {
   "cell_type": "code",
   "execution_count": 21,
   "metadata": {},
   "outputs": [],
   "source": [
    "n_tag = morph.parse('none')[0].tag\n",
    "\n",
    "def pos_filter(norm_kw):\n",
    "    res = []\n",
    "    for kw in norm_kw.split():\n",
    "        if morph.parse(kw)[0].tag.POS in ['NOUN', 'ADJF']:\n",
    "            res.append(kw)\n",
    "    if len(res) == 0:\n",
    "        res = ['none']\n",
    "    return ' '.join(res)"
   ]
  },
  {
   "cell_type": "markdown",
   "metadata": {},
   "source": [
    "## Метрики\n",
    "\n",
    "Recall = Proportion of relevant words retrieved `(pred ⋂ gold) / gold`\n",
    "\n",
    "Precision = Proportion of retrieved words that are relevant `(pred ⋂ gold) / pred`\n",
    "\n",
    "F = `(2*P*R) / (P + R)`"
   ]
  },
  {
   "cell_type": "code",
   "execution_count": 22,
   "metadata": {},
   "outputs": [],
   "source": [
    "def measure(predicted, golden):\n",
    "    pred = predicted.split()\n",
    "    gold = golden.split()\n",
    "    \n",
    "    cross = len(list(set(pred) & set(gold)))\n",
    "\n",
    "    R = cross / len(gold)\n",
    "    P = cross / len(pred)\n",
    "    \n",
    "    if cross == 0:\n",
    "        F = 0.0\n",
    "    else:\n",
    "        F = (2*P*R) / (P + R)\n",
    "    \n",
    "    return R, P, F\n",
    "\n",
    "def mean_metrics(measure):\n",
    "    df = pd.DataFrame(measure.tolist(), columns=metrics)\n",
    "    return df.mean()"
   ]
  },
  {
   "cell_type": "code",
   "execution_count": 23,
   "metadata": {},
   "outputs": [
    {
     "data": {
      "application/vnd.jupyter.widget-view+json": {
       "model_id": "9906f544881d4f3b91ad9927f16415a0",
       "version_major": 2,
       "version_minor": 0
      },
      "text/plain": [
       "HBox(children=(IntProgress(value=0, max=14), HTML(value='')))"
      ]
     },
     "metadata": {},
     "output_type": "display_data"
    },
    {
     "name": "stdout",
     "output_type": "stream",
     "text": [
      "\n"
     ]
    },
    {
     "data": {
      "application/vnd.jupyter.widget-view+json": {
       "model_id": "51d3677efc2b47c3bc846a4de53cf8d3",
       "version_major": 2,
       "version_minor": 0
      },
      "text/plain": [
       "HBox(children=(IntProgress(value=0, max=14), HTML(value='')))"
      ]
     },
     "metadata": {},
     "output_type": "display_data"
    },
    {
     "name": "stdout",
     "output_type": "stream",
     "text": [
      "\n"
     ]
    },
    {
     "data": {
      "application/vnd.jupyter.widget-view+json": {
       "model_id": "e311bf90592b460c86be6accb0089b13",
       "version_major": 2,
       "version_minor": 0
      },
      "text/plain": [
       "HBox(children=(IntProgress(value=0, max=14), HTML(value='')))"
      ]
     },
     "metadata": {},
     "output_type": "display_data"
    },
    {
     "name": "stdout",
     "output_type": "stream",
     "text": [
      "\n"
     ]
    }
   ],
   "source": [
    "metrics = ['Recall', 'Precision', 'F-score']\n",
    "\n",
    "reports = {}\n",
    "for opt in ['intersect', 'union']:\n",
    "    reports[opt] = {}\n",
    "    for filt in ['all', 'filtered']:\n",
    "        reports[opt][filt] = pd.DataFrame(index=metrics, columns=pipeline.keys())\n",
    "\n",
    "for method, func in pipeline.items():\n",
    "    data[f'{method}_pred'] = data['lem'].progress_apply(func)\n",
    "    data[f'{method}_all'] = data[f'{method}_pred'].apply(normalize)\n",
    "    data[f'{method}_filtered'] = data[f'{method}_all'].apply(pos_filter)\n",
    "    \n",
    "    for opt in ['intersect', 'union']:    \n",
    "        for filt in ['all', 'filtered']:\n",
    "            data[f'{method}_{filt}_measure'] = data.apply(lambda x: measure(x[f'{method}_{filt}'], \n",
    "                                                                            x[f'gold_{opt}']), axis=1)\n",
    "            data[f'{method}_{filt}_sum'] = data[f'{method}_{filt}_measure'].apply(sum)\n",
    "\n",
    "            reports[opt][filt][method] = mean_metrics(data[f'{method}_{filt}_measure'])"
   ]
  },
  {
   "cell_type": "code",
   "execution_count": 24,
   "metadata": {},
   "outputs": [
    {
     "data": {
      "text/html": [
       "<div>\n",
       "<style scoped>\n",
       "    .dataframe tbody tr th:only-of-type {\n",
       "        vertical-align: middle;\n",
       "    }\n",
       "\n",
       "    .dataframe tbody tr th {\n",
       "        vertical-align: top;\n",
       "    }\n",
       "\n",
       "    .dataframe thead th {\n",
       "        text-align: right;\n",
       "    }\n",
       "</style>\n",
       "<table border=\"1\" class=\"dataframe\">\n",
       "  <thead>\n",
       "    <tr style=\"text-align: right;\">\n",
       "      <th></th>\n",
       "      <th>rake</th>\n",
       "      <th>textrank</th>\n",
       "      <th>summa</th>\n",
       "    </tr>\n",
       "  </thead>\n",
       "  <tbody>\n",
       "    <tr>\n",
       "      <th>Recall</th>\n",
       "      <td>0.174937</td>\n",
       "      <td>0.399442</td>\n",
       "      <td>0.484008</td>\n",
       "    </tr>\n",
       "    <tr>\n",
       "      <th>Precision</th>\n",
       "      <td>0.339594</td>\n",
       "      <td>0.174556</td>\n",
       "      <td>0.204777</td>\n",
       "    </tr>\n",
       "    <tr>\n",
       "      <th>F-score</th>\n",
       "      <td>0.206369</td>\n",
       "      <td>0.237544</td>\n",
       "      <td>0.281830</td>\n",
       "    </tr>\n",
       "  </tbody>\n",
       "</table>\n",
       "</div>"
      ],
      "text/plain": [
       "               rake  textrank     summa\n",
       "Recall     0.174937  0.399442  0.484008\n",
       "Precision  0.339594  0.174556  0.204777\n",
       "F-score    0.206369  0.237544  0.281830"
      ]
     },
     "execution_count": 24,
     "metadata": {},
     "output_type": "execute_result"
    }
   ],
   "source": [
    "reports['union']['all']"
   ]
  },
  {
   "cell_type": "code",
   "execution_count": 25,
   "metadata": {},
   "outputs": [
    {
     "data": {
      "text/html": [
       "<div>\n",
       "<style scoped>\n",
       "    .dataframe tbody tr th:only-of-type {\n",
       "        vertical-align: middle;\n",
       "    }\n",
       "\n",
       "    .dataframe tbody tr th {\n",
       "        vertical-align: top;\n",
       "    }\n",
       "\n",
       "    .dataframe thead th {\n",
       "        text-align: right;\n",
       "    }\n",
       "</style>\n",
       "<table border=\"1\" class=\"dataframe\">\n",
       "  <thead>\n",
       "    <tr style=\"text-align: right;\">\n",
       "      <th></th>\n",
       "      <th>rake</th>\n",
       "      <th>textrank</th>\n",
       "      <th>summa</th>\n",
       "    </tr>\n",
       "  </thead>\n",
       "  <tbody>\n",
       "    <tr>\n",
       "      <th>Recall</th>\n",
       "      <td>0.316667</td>\n",
       "      <td>0.550000</td>\n",
       "      <td>0.771429</td>\n",
       "    </tr>\n",
       "    <tr>\n",
       "      <th>Precision</th>\n",
       "      <td>0.208546</td>\n",
       "      <td>0.078499</td>\n",
       "      <td>0.103025</td>\n",
       "    </tr>\n",
       "    <tr>\n",
       "      <th>F-score</th>\n",
       "      <td>0.190548</td>\n",
       "      <td>0.132628</td>\n",
       "      <td>0.175791</td>\n",
       "    </tr>\n",
       "  </tbody>\n",
       "</table>\n",
       "</div>"
      ],
      "text/plain": [
       "               rake  textrank     summa\n",
       "Recall     0.316667  0.550000  0.771429\n",
       "Precision  0.208546  0.078499  0.103025\n",
       "F-score    0.190548  0.132628  0.175791"
      ]
     },
     "execution_count": 25,
     "metadata": {},
     "output_type": "execute_result"
    }
   ],
   "source": [
    "reports['intersect']['all']"
   ]
  },
  {
   "cell_type": "code",
   "execution_count": 26,
   "metadata": {},
   "outputs": [
    {
     "data": {
      "text/html": [
       "<div>\n",
       "<style scoped>\n",
       "    .dataframe tbody tr th:only-of-type {\n",
       "        vertical-align: middle;\n",
       "    }\n",
       "\n",
       "    .dataframe tbody tr th {\n",
       "        vertical-align: top;\n",
       "    }\n",
       "\n",
       "    .dataframe thead th {\n",
       "        text-align: right;\n",
       "    }\n",
       "</style>\n",
       "<table border=\"1\" class=\"dataframe\">\n",
       "  <thead>\n",
       "    <tr style=\"text-align: right;\">\n",
       "      <th></th>\n",
       "      <th>rake</th>\n",
       "      <th>textrank</th>\n",
       "      <th>summa</th>\n",
       "    </tr>\n",
       "  </thead>\n",
       "  <tbody>\n",
       "    <tr>\n",
       "      <th>Recall</th>\n",
       "      <td>0.157982</td>\n",
       "      <td>0.352184</td>\n",
       "      <td>0.436750</td>\n",
       "    </tr>\n",
       "    <tr>\n",
       "      <th>Precision</th>\n",
       "      <td>0.424079</td>\n",
       "      <td>0.203892</td>\n",
       "      <td>0.247556</td>\n",
       "    </tr>\n",
       "    <tr>\n",
       "      <th>F-score</th>\n",
       "      <td>0.203588</td>\n",
       "      <td>0.251074</td>\n",
       "      <td>0.306229</td>\n",
       "    </tr>\n",
       "  </tbody>\n",
       "</table>\n",
       "</div>"
      ],
      "text/plain": [
       "               rake  textrank     summa\n",
       "Recall     0.157982  0.352184  0.436750\n",
       "Precision  0.424079  0.203892  0.247556\n",
       "F-score    0.203588  0.251074  0.306229"
      ]
     },
     "execution_count": 26,
     "metadata": {},
     "output_type": "execute_result"
    }
   ],
   "source": [
    "reports['union']['filtered']"
   ]
  },
  {
   "cell_type": "code",
   "execution_count": 27,
   "metadata": {},
   "outputs": [
    {
     "data": {
      "text/html": [
       "<div>\n",
       "<style scoped>\n",
       "    .dataframe tbody tr th:only-of-type {\n",
       "        vertical-align: middle;\n",
       "    }\n",
       "\n",
       "    .dataframe tbody tr th {\n",
       "        vertical-align: top;\n",
       "    }\n",
       "\n",
       "    .dataframe thead th {\n",
       "        text-align: right;\n",
       "    }\n",
       "</style>\n",
       "<table border=\"1\" class=\"dataframe\">\n",
       "  <thead>\n",
       "    <tr style=\"text-align: right;\">\n",
       "      <th></th>\n",
       "      <th>rake</th>\n",
       "      <th>textrank</th>\n",
       "      <th>summa</th>\n",
       "    </tr>\n",
       "  </thead>\n",
       "  <tbody>\n",
       "    <tr>\n",
       "      <th>Recall</th>\n",
       "      <td>0.316667</td>\n",
       "      <td>0.523810</td>\n",
       "      <td>0.745238</td>\n",
       "    </tr>\n",
       "    <tr>\n",
       "      <th>Precision</th>\n",
       "      <td>0.252176</td>\n",
       "      <td>0.098111</td>\n",
       "      <td>0.130069</td>\n",
       "    </tr>\n",
       "    <tr>\n",
       "      <th>F-score</th>\n",
       "      <td>0.214399</td>\n",
       "      <td>0.158479</td>\n",
       "      <td>0.213044</td>\n",
       "    </tr>\n",
       "  </tbody>\n",
       "</table>\n",
       "</div>"
      ],
      "text/plain": [
       "               rake  textrank     summa\n",
       "Recall     0.316667  0.523810  0.745238\n",
       "Precision  0.252176  0.098111  0.130069\n",
       "F-score    0.214399  0.158479  0.213044"
      ]
     },
     "execution_count": 27,
     "metadata": {},
     "output_type": "execute_result"
    }
   ],
   "source": [
    "reports['intersect']['filtered']"
   ]
  },
  {
   "cell_type": "code",
   "execution_count": 28,
   "metadata": {},
   "outputs": [],
   "source": [
    "# data"
   ]
  },
  {
   "cell_type": "markdown",
   "metadata": {},
   "source": [
    "## Анализ ошибок"
   ]
  },
  {
   "cell_type": "code",
   "execution_count": 29,
   "metadata": {},
   "outputs": [],
   "source": [
    "def missed(method, filt):\n",
    "    miss = data[data[f'{method}_{filt}_sum'] == 0]\n",
    "    print(f'полные промахи метода {method}\\n')\n",
    "    \n",
    "    for row in miss.iterrows():\n",
    "        print('должно быть:', row[1]['gold_union'])\n",
    "        print('предсказано:', row[1][f'{method}_{filt}'])\n",
    "        print('\\n')\n",
    "        \n",
    "    print(f'итого: {len(miss)} из {len(data)}\\n=====')\n",
    "    return miss"
   ]
  },
  {
   "cell_type": "code",
   "execution_count": 30,
   "metadata": {
    "scrolled": false
   },
   "outputs": [
    {
     "name": "stdout",
     "output_type": "stream",
     "text": [
      "полные промахи метода rake\n",
      "\n",
      "должно быть: интернеткорпус исследование корпус корпусный лингвистика методология нвыка русистика русский технический язык\n",
      "предсказано: частность что явление\n",
      "\n",
      "\n",
      "должно быть: в доказательный корпус лексика начальный педагогика русский сложность сравнение текст учебник учебный школа язык\n",
      "предсказано: none\n",
      "\n",
      "\n",
      "должно быть: автор авторский атрибуция идентификация классификация текст\n",
      "предсказано: дать\n",
      "\n",
      "\n",
      "итого: 3 из 14\n",
      "=====\n",
      "полные промахи метода textrank\n",
      "\n",
      "итого: 0 из 14\n",
      "=====\n",
      "полные промахи метода summa\n",
      "\n",
      "итого: 0 из 14\n",
      "=====\n"
     ]
    }
   ],
   "source": [
    "for method in pipeline.keys():\n",
    "    _ = missed(method, 'all')"
   ]
  },
  {
   "cell_type": "code",
   "execution_count": 31,
   "metadata": {},
   "outputs": [],
   "source": [
    "def analize(method, gold_vocab, filt='all', log=False):\n",
    "    gold_len = len(gold_vocab)\n",
    "    \n",
    "    method_vocab = sorted(list(set(' '.join(data[f'{method}_{filt}']).split())))\n",
    "    extra = [w for w in method_vocab if w not in gold_vocab]\n",
    "    missed = [w for w in gold_vocab if w not in method_vocab]\n",
    "    \n",
    "    \n",
    "    if log:\n",
    "        print(f'метод {method} выделяет лишние слова:\\n')\n",
    "        print(', '.join(extra))\n",
    "        print('\\n')\n",
    "        print(f'метод {method} НЕ выделяет следующие ключевые слова:\\n')\n",
    "        print(', '.join(missed))\n",
    "        \n",
    "        \n",
    "        print(f'\\nитого: {gold_len-len(missed)} из {gold_len} правильных, {len(extra)} слов лишние\\n=====')\n",
    "              \n",
    "    return extra, missed"
   ]
  },
  {
   "cell_type": "markdown",
   "metadata": {},
   "source": [
    "Если в качестве стандарта использовать **объединение** ключевых слов, выделенных авторами, и моих:"
   ]
  },
  {
   "cell_type": "code",
   "execution_count": 32,
   "metadata": {},
   "outputs": [
    {
     "name": "stdout",
     "output_type": "stream",
     "text": [
      "метод rake выделяет лишние слова:\n",
      "\n",
      "2, 2,, a, none, выражать, дело, значимость, иван, извиниться, иметь, инвентаризация, использовать, кажется, книга, любовь, метр, например, наш, общественный, однако, орда, отклонение, отсутствие, плат, показать, положение, предложение, проза, разграничительный, разумеется, сат, свидетельствовать, сила, сложный, случай, сравнить, структура, также, талант, то, тоска, тургенев, университет, ф, функция, частность, частотность, число, что, явление, …\n",
      "\n",
      "\n",
      "метод rake НЕ выделяет следующие ключевые слова:\n",
      "\n",
      "udapi, автоматический, автор, авторский, анализ, аннотирование, атрибуция, берестяной, близость, валентный, временной, генерация, гикрить, глубинный, говорящий, грамота, деривация, динамик, дискурс, доказательный, достоевский, заполнение, значение, идентификация, интернеткорпус, исследование, классификация, когнитивный, коннектор, корпус, корпусный, лексика, лексический, лингвистика, местоимение, методология, модус, морфосинтаксический, начальный, нвыка, неоднозначный, неопределённый, нкрить, отлклонение, отношение, параллельный, парсинга, педагогика, перевод, переход, повседневный, подход, позиция, поиск, предикатный, причина, рамка, расширение, речевой, речь, роль, русистика, русский, семантика, синтаксис, скетч, следование, словоуказатель, содержание, сочетаемость, сравнение, ссылка, стиль, текст, тема, технический, трансформация, устный, учебник, учебный, целевой, центр, шаблон, школа, экспериментальный, эпиграфика\n",
      "\n",
      "итого: 28 из 114 правильных, 51 слов лишние\n",
      "=====\n",
      "метод textrank выделяет лишние слова:\n",
      "\n",
      "rusemsketches, xix, автоматическия, адаптация, алгоритм, берестяноить, большоя, вводить, век, вероятно, весь, весьма, вклад, возможность, возможный, возникать, временноить, выбрать, вывод, выражение, выразить, высказывание, выявить, гипертекстовыя, глагол, говорящие, группа, даваться, дальнеишие, данный, датасет, деиствие, демонстрироваться, день, дерево, деятельность, дифференциальный, длина, для, добежать, доля, дополнительный, достоевския, доступ, доучиться, древнерусския, друг, единица, жанровыя, желание, заметный, значимый, зрение, изменение, имя, интересный, информация, использование, историческия, исходный, как, качественный, качество, клауза, конкретный, конструкция, контекст, который, критерий, лингвистическия, линеиный, лишь, маркирование, мера, метатекстовыя, метод, младшие, момент, морфосинтаксическия, мочь, наблюдать, надпись, направление, наш, недостаточно, неклассическия, некнижный, непосредственно, несколько, новое, новыя, номинация, носитель, область, обратить, обстоятельство, обсуждаться, общественный, общие, объективный, объяснить, один, однако, онлаин, оно, определение, определенный, определять, отдельный, отклонение, отражать, отрицание, отсутствие, памятник, параллель, параллельно, пилотный, письменность, письменный, планироваться, побуждение, повелительный, пожалуи, позволить, позволять, показать, получить, пользователь, понятие, посвятить, почему, прагматическия, предложение, представить, представляться, призвать, признак, пример, причинный, проводить, проводиться, программный, произведение, процесс, прямая, работа, развитие, разграничительный, различный, разметить, разный, ранг, рассматриваться, реализовать, результат, ресурс, рождение, русския, русскоязычный, связь, сделать, сегодня, семантическия, синтаксическия, ситуация, следующие, слишком, словарь, случай, собеседник, современный, создание, список, сравнить, средство, становиться, стать, стимульный, существенный, существующие, также, такой, талант, тематическия, тенденция, теоретическия, тип, толкование, употребление, урк, уровень, условие, уточнение, факт, фактор, функция, частота, частотный, что, широкия, экспорт, элемент, этап, это, этот, явление, являться\n",
      "\n",
      "\n",
      "метод textrank НЕ выделяет следующие ключевые слова:\n",
      "\n",
      "автоматический, авторский, атрибуция, берестяной, близость, временной, генерация, глубинный, говорящий, деривация, диалог, доказательный, достоевский, заполнение, идентификация, интернеткорпус, когнитивный, коннектор, лексический, местоимение, методология, модус, монолог, морфосинтаксический, начальный, нвыка, неоднозначный, неопределённый, норма, отлклонение, отношение, параллельный, парсинга, педагогика, перевод, повседневный, позиция, поиск, прагматический, предикатный, рамка, расширение, русистика, русский, семантический, синтаксис, синтаксический, словоуказатель, содержание, сочетаемость, сравнение, тема, технический, учебный, центр, что-то, шаблон, школа\n",
      "\n",
      "итого: 56 из 114 правильных, 207 слов лишние\n",
      "=====\n",
      "метод summa выделяет лишние слова:\n",
      "\n",
      "a, et, popel, root, rusemsketches, shared, xix, адаптация, арсенал, библиографический, большой, вводить, век, вероятно, весь, весьма, вклад, внимание, возможность, возможный, возмущаться, выбрать, вывод, выражать, выражаться, выразить, гипертекстем, гипертекстовый, глагол, год, голова, группа, давление, дальнейший, датасет, действие, демонстрироваться, день, деятельность, дифференциальность, дифференциальный, длина, добежать, документ, доля, дополнительный, досидеть, доступ, доучиться, древнерусский, друг, единица, жанровый, желание, задать, задача, значимый, зрение, иван, изменение, иметь, иметься, интерес, интересный, интересовать, интересоваться, интерфейс, информация, использование, использовать, использоваться, исторический, исходный, качественный, качество, клауза, компьютерный, конкретный, конструкция, контекст, критерий, лексичёска, лингвистический, лишь, маркирование, материал, мера, метатекстовый, метод, метр, младший, мочь, наблюдать, надпись, намечать, например, наука, наш, недостаточно, недостаточный, неклассический, некнижный, неопределённость, несколько, новое, новый, номинация, носитель, область, обратить, обстоятельство, обсуждаться, обучение, обученный, общественный, общий, объединить, объяснить, однако, онлайн, описание, определение, определять, определённый, отдельный, отрицание, отсутствие, памятник, пересечение, письменный, план, пм, побуждение, повелительный, подкорпус, пожалуй, позволить, позволять, показать, получить, пользователь, помощь, понятие, посвятить, предложение, представить, представлять, представляться, призвать, признак, пример, причинный, проблемный, проводить, проводиться, программный, проект, произведение, процедура, прямая, разболеться, развитие, различный, разнообразие, разный, рассматривать, рассматриваться, рассмотреть, реализовать, результат, ресурс, рождение, русскоязычный, ряд, сайт, связанный, связь, сделать, сегодня, семантически, следующий, слишком, словарь, собеседник, современный, создание, сообщение, список, сравнить, средство, становиться, степень, строительство, сугубо, существенно, существенный, существующий, также, талант, тематический, тенденция, теоретический, тип, толкование, употребление, уровень, условие, уточнение, фактор, формальный, фреймворка, функция, характеристика, частотный, что, широкий, экспорт, элемент, эпистемический, явление, являться, языковой\n",
      "\n",
      "\n",
      "метод summa НЕ выделяет следующие ключевые слова:\n",
      "\n",
      "атрибуция, близость, время, генерация, глубинный, диалог, доказательный, заполнение, идентификация, интернеткорпус, когнитивный, коннектор, местоимение, методология, модус, монолог, морфосинтаксический, начальный, нвыка, неоднозначный, норма, отлклонение, отношение, параллельный, парсинга, педагогика, перевод, переход, повседневный, подход, позиция, поиск, предикатный, рамка, русистика, словоуказатель, содержание, сочетаемость, сравнение, стимул, тема, технический, трансформация, учебный, центр, что-то, шаблон, школа, эксперимент, экспериментальный\n",
      "\n",
      "итого: 64 из 114 правильных, 222 слов лишние\n",
      "=====\n"
     ]
    }
   ],
   "source": [
    "gold_vocab = sorted(list(set(' '.join(data['gold_union']).split())))\n",
    "gold_vocab = [g for g in gold_vocab if g not in stops]\n",
    "\n",
    "for method in pipeline.keys():\n",
    "    _ = analize(method, gold_vocab, filt='all', log=True)"
   ]
  },
  {
   "cell_type": "markdown",
   "metadata": {},
   "source": [
    "Если применить частеречный фильтр:"
   ]
  },
  {
   "cell_type": "code",
   "execution_count": 33,
   "metadata": {},
   "outputs": [
    {
     "name": "stdout",
     "output_type": "stream",
     "text": [
      "метод rake выделяет лишние слова:\n",
      "\n",
      "none, дело, значимость, иван, инвентаризация, книга, любовь, метр, наш, общественный, орда, отклонение, отсутствие, плат, положение, предложение, проза, разграничительный, сила, сложный, случай, структура, талант, тоска, тургенев, университет, функция, частность, частотность, число, явление\n",
      "\n",
      "\n",
      "метод rake НЕ выделяет следующие ключевые слова:\n",
      "\n",
      "udapi, автоматический, автор, авторский, анализ, аннотирование, атрибуция, берестяной, близость, валентный, временной, генерация, гикрить, глубинный, говорящий, грамота, дать, деривация, динамик, дискурс, доказательный, достоевский, заполнение, затем, значение, идентификация, интернеткорпус, исследование, классификация, когнитивный, коннектор, корпус, корпусный, лексика, лексический, лингвистика, местоимение, методология, модус, морфосинтаксический, начальный, нвыка, неоднозначный, неопределённый, нкрить, отлклонение, отношение, параллельный, парсинга, педагогика, перевод, переход, повседневный, подход, позиция, поиск, потом, предикатный, причина, рамка, расширение, речевой, речь, роль, русистика, русский, семантика, синтаксис, скетч, следование, словоуказатель, содержание, сочетаемость, сравнение, ссылка, стиль, текст, тема, технический, трансформация, устный, учебник, учебный, целевой, центр, что-то, шаблон, школа, экспериментальный, эпиграфика\n",
      "\n",
      "итого: 24 из 114 правильных, 31 слов лишние\n",
      "=====\n",
      "метод textrank выделяет лишние слова:\n",
      "\n",
      "автоматическия, адаптация, алгоритм, большоя, весь, вклад, возможность, возможный, вывод, выражение, высказывание, гипертекстовыя, глагол, говорящие, группа, дальнеишие, данный, датасет, деиствие, день, дерево, деятельность, дифференциальный, длина, доля, дополнительный, достоевския, доступ, древнерусския, друг, единица, жанровыя, желание, заметный, значимый, зрение, изменение, имя, интересный, информация, использование, историческия, исходный, качественный, качество, клауза, конкретный, конструкция, контекст, который, критерий, лингвистическия, линеиный, маркирование, мера, метатекстовыя, метод, младшие, момент, морфосинтаксическия, мочь, надпись, направление, наш, неклассическия, некнижный, новое, новыя, номинация, носитель, область, обстоятельство, общественный, общие, объективный, один, онлаин, определение, определенный, отдельный, отклонение, отрицание, отсутствие, памятник, параллель, пилотный, письменность, письменный, побуждение, повелительный, пожалуи, пользователь, понятие, прагматическия, предложение, признак, пример, причинный, программный, произведение, процесс, прямая, работа, развитие, разграничительный, различный, разный, ранг, результат, ресурс, рождение, русския, русскоязычный, связь, семантическия, синтаксическия, ситуация, следующие, словарь, случай, собеседник, современный, создание, список, средство, стимульный, существенный, существующие, такой, талант, тематическия, тенденция, теоретическия, тип, толкование, употребление, уровень, условие, уточнение, факт, фактор, функция, частота, частотный, широкия, экспорт, элемент, этап, этот, явление\n",
      "\n",
      "\n",
      "метод textrank НЕ выделяет следующие ключевые слова:\n",
      "\n",
      "udapi, автоматический, авторский, атрибуция, берестяной, близость, временной, генерация, гикрить, глубинный, говорящий, дать, деривация, диалог, доказательный, достоевский, заполнение, затем, идентификация, интернеткорпус, когнитивный, коннектор, лексический, местоимение, методология, модус, монолог, морфосинтаксический, начальный, нвыка, неоднозначный, неопределённый, нкрить, норма, отлклонение, отношение, параллельный, парсинга, педагогика, перевод, повседневный, позиция, поиск, потом, прагматический, предикатный, рамка, расширение, русистика, русский, семантический, синтаксис, синтаксический, словоуказатель, содержание, сочетаемость, сравнение, тема, технический, учебный, центр, что-то, шаблон, школа\n",
      "\n",
      "итого: 50 из 114 правильных, 150 слов лишние\n",
      "=====\n",
      "метод summa выделяет лишние слова:\n",
      "\n",
      "адаптация, арсенал, библиографический, большой, весь, вклад, внимание, возможность, возможный, вывод, гипертекстем, гипертекстовый, глагол, год, голова, группа, давление, дальнейший, датасет, действие, день, деятельность, дифференциальность, дифференциальный, длина, документ, доля, дополнительный, доступ, древнерусский, друг, единица, жанровый, желание, задача, значимый, зрение, иван, изменение, интерес, интересный, интерфейс, информация, использование, исторический, исходный, качественный, качество, клауза, компьютерный, конкретный, конструкция, контекст, критерий, лексичёска, лингвистический, маркирование, материал, мера, метатекстовый, метод, метр, младший, мочь, надпись, наука, наш, недостаточный, неклассический, некнижный, неопределённость, новое, новый, номинация, носитель, область, обстоятельство, обучение, обученный, общественный, общий, описание, определение, определённый, отдельный, отрицание, отсутствие, памятник, пересечение, письменный, план, побуждение, повелительный, подкорпус, пользователь, помощь, понятие, предложение, признак, пример, причинный, проблемный, программный, проект, произведение, процедура, прямая, развитие, различный, разнообразие, разный, результат, ресурс, рождение, русскоязычный, ряд, сайт, связанный, связь, следующий, словарь, собеседник, современный, создание, сообщение, список, средство, степень, строительство, существенный, существующий, талант, тематический, тенденция, теоретический, тип, толкование, употребление, уровень, условие, уточнение, фактор, формальный, фреймворка, функция, характеристика, частотный, широкий, экспорт, элемент, эпистемический, явление, языковой\n",
      "\n",
      "\n",
      "метод summa НЕ выделяет следующие ключевые слова:\n",
      "\n",
      "udapi, атрибуция, близость, время, генерация, гикрить, глубинный, дать, диалог, доказательный, заполнение, затем, идентификация, интернеткорпус, когнитивный, коннектор, местоимение, методология, модус, монолог, морфосинтаксический, начальный, нвыка, неоднозначный, нкрить, норма, отлклонение, отношение, параллельный, парсинга, педагогика, перевод, переход, повседневный, подход, позиция, поиск, потом, предикатный, рамка, русистика, словоуказатель, содержание, сочетаемость, сравнение, стимул, тема, технический, трансформация, учебный, центр, что-то, шаблон, школа, эксперимент, экспериментальный\n",
      "\n",
      "итого: 58 из 114 правильных, 153 слов лишние\n",
      "=====\n"
     ]
    }
   ],
   "source": [
    "gold_vocab = sorted(list(set(' '.join(data['gold_union']).split())))\n",
    "gold_vocab = [g for g in gold_vocab if g not in stops]\n",
    "\n",
    "for method in pipeline.keys():\n",
    "    _ = analize(method, gold_vocab, filt='filtered', log=True)"
   ]
  },
  {
   "cell_type": "markdown",
   "metadata": {},
   "source": [
    "Если в качестве стандарта использовать **пересечение** ключевых слов, выделенных авторами, и моих:"
   ]
  },
  {
   "cell_type": "code",
   "execution_count": 34,
   "metadata": {},
   "outputs": [
    {
     "name": "stdout",
     "output_type": "stream",
     "text": [
      "метод rake выделяет лишние слова:\n",
      "\n",
      "2, 2,, a, none, валентность, время, выражать, дело, диалог, затем, значимость, иван, извиниться, иметь, инвентаризация, использовать, кажется, класс, книга, любовь, метр, монолог, например, наш, норма, общественный, однако, орда, отклонение, отсутствие, плат, показать, положение, потом, практика, предикат, предложение, проза, разграничительный, разумеется, сат, свидетельствовать, сила, сложный, случай, сравнить, структура, также, талант, то, тоска, тургенев, университет, ф, функция, художественный, частность, частотность, число, что, что-то, эксперимент, электронный, явление, …\n",
      "\n",
      "\n",
      "метод rake НЕ выделяет следующие ключевые слова:\n",
      "\n",
      "автоматический, авторский, атрибуция, берестяной, временной, генерация, гикрить, грамота, динамик, достоевский, классификация, корпус, лексический, русский, скетч, следование, содержание, стиль, текст, трансформация, учебник, эпиграфика\n",
      "\n",
      "итого: 14 из 36 правильных, 65 слов лишние\n",
      "=====\n",
      "метод textrank выделяет лишние слова:\n",
      "\n",
      "rusemsketches, udapi, xix, автоматическия, автор, адаптация, алгоритм, анализ, аннотирование, берестяноить, большоя, валентность, валентный, вводить, век, вероятно, весь, весьма, вклад, возможность, возможный, возникать, временноить, время, выбрать, вывод, выражение, выразить, высказывание, выявить, гипертекстовыя, глагол, говорящие, группа, даваться, дальнеишие, данный, датасет, деиствие, демонстрироваться, день, дерево, деятельность, дискурс, дифференциальный, длина, для, добежать, доля, дополнительный, достоевския, доступ, доучиться, древнерусския, друг, единица, жанровыя, желание, заметный, затем, значение, значимый, зрение, изменение, имя, интересный, информация, использование, исследование, историческия, исходный, как, качественный, качество, класс, клауза, конкретный, конструкция, контекст, корпусный, который, критерий, лексика, лингвистика, лингвистическия, линеиный, лишь, маркирование, мера, метатекстовыя, метод, младшие, момент, морфосинтаксическия, мочь, наблюдать, надпись, направление, наш, недостаточно, неклассическия, некнижный, непосредственно, несколько, нкрить, новое, новыя, номинация, носитель, область, обратить, обстоятельство, обсуждаться, общественный, общие, объективный, объяснить, один, однако, онлаин, оно, определение, определенный, определять, отдельный, отклонение, отражать, отрицание, отсутствие, памятник, параллель, параллельно, переход, пилотный, письменность, письменный, планироваться, побуждение, повелительный, подход, пожалуи, позволить, позволять, показать, получить, пользователь, понятие, посвятить, потом, почему, прагматическия, практика, предикат, предложение, представить, представляться, призвать, признак, пример, причина, причинный, проводить, проводиться, программный, произведение, процесс, прямая, работа, развитие, разграничительный, различный, разметить, разный, ранг, рассматриваться, реализовать, результат, ресурс, речевой, речь, рождение, роль, русския, русскоязычный, связь, сделать, сегодня, семантика, семантическия, синтаксическия, ситуация, следующие, слишком, словарь, случай, собеседник, современный, создание, список, сравнить, средство, ссылка, становиться, стать, стимульный, существенный, существующие, также, такой, талант, тематическия, тенденция, теоретическия, тип, толкование, употребление, урк, уровень, условие, устный, уточнение, факт, фактор, функция, художественный, целевой, частота, частотный, что, широкия, эксперимент, экспериментальный, экспорт, электронный, элемент, этап, это, этот, явление, являться\n",
      "\n",
      "\n",
      "метод textrank НЕ выделяет следующие ключевые слова:\n",
      "\n",
      "автоматический, авторский, атрибуция, берестяной, временной, генерация, достоевский, лексический, прагматический, русский, семантический, синтаксический, содержание\n",
      "\n",
      "итого: 23 из 36 правильных, 240 слов лишние\n",
      "=====\n",
      "метод summa выделяет лишние слова:\n",
      "\n",
      "a, et, popel, root, rusemsketches, shared, udapi, xix, автор, адаптация, анализ, аннотирование, арсенал, библиографический, большой, валентность, валентный, вводить, век, вероятно, весь, весьма, вклад, внимание, возможность, возможный, возмущаться, выбрать, вывод, выражать, выражаться, выразить, гипертекстем, гипертекстовый, глагол, говорящий, год, голова, группа, давление, дальнейший, датасет, действие, демонстрироваться, день, деривация, деятельность, дискурс, дифференциальность, дифференциальный, длина, добежать, документ, доля, дополнительный, досидеть, доступ, доучиться, древнерусский, друг, единица, жанровый, желание, задать, задача, затем, значение, значимый, зрение, иван, изменение, иметь, иметься, интерес, интересный, интересовать, интересоваться, интерфейс, информация, использование, использовать, использоваться, исследование, исторический, исходный, качественный, качество, класс, клауза, компьютерный, конкретный, конструкция, контекст, корпусный, критерий, лексика, лексичёска, лингвистика, лингвистический, лишь, маркирование, материал, мера, метатекстовый, метод, метр, младший, мочь, наблюдать, надпись, намечать, например, наука, наш, недостаточно, недостаточный, неклассический, некнижный, неопределённость, неопределённый, несколько, нкрить, новое, новый, номинация, носитель, область, обратить, обстоятельство, обсуждаться, обучение, обученный, общественный, общий, объединить, объяснить, однако, онлайн, описание, определение, определять, определённый, отдельный, отрицание, отсутствие, памятник, пересечение, письменный, план, пм, побуждение, повелительный, подкорпус, пожалуй, позволить, позволять, показать, получить, пользователь, помощь, понятие, посвятить, потом, практика, предикат, предложение, представить, представлять, представляться, призвать, признак, пример, причина, причинный, проблемный, проводить, проводиться, программный, проект, произведение, процедура, прямая, разболеться, развитие, различный, разнообразие, разный, рассматривать, рассматриваться, рассмотреть, расширение, реализовать, результат, ресурс, речевой, речь, рождение, роль, русскоязычный, ряд, сайт, связанный, связь, сделать, сегодня, семантика, семантически, синтаксис, следующий, слишком, словарь, собеседник, современный, создание, сообщение, список, сравнить, средство, ссылка, становиться, степень, строительство, сугубо, существенно, существенный, существующий, также, талант, тематический, тенденция, теоретический, тип, толкование, употребление, уровень, условие, устный, уточнение, фактор, формальный, фреймворка, функция, характеристика, художественный, целевой, частотный, что, широкий, экспорт, электронный, элемент, эпистемический, явление, являться, языковой\n",
      "\n",
      "\n",
      "метод summa НЕ выделяет следующие ключевые слова:\n",
      "\n",
      "атрибуция, генерация, содержание, стимул, трансформация\n",
      "\n",
      "итого: 31 из 36 правильных, 255 слов лишние\n",
      "=====\n"
     ]
    }
   ],
   "source": [
    "gold_vocab_intersect = sorted(list(set(' '.join(data['gold_intersect']).split())))\n",
    "gold_vocab_intersect = [g for g in gold_vocab_intersect if g not in stops]\n",
    "\n",
    "for method in pipeline.keys():\n",
    "    _ = analize(method, gold_vocab_intersect, filt='all', log=True)"
   ]
  },
  {
   "cell_type": "markdown",
   "metadata": {},
   "source": [
    "### Идеи улучшения:\n",
    "\n",
    "1. поработать над списком стоп слов (например, сделать кастомое расширение из лексики, специфичной для жанра научной литературы, e.g. *работа, вопрос* - **частично реализовала**\n",
    "2. задавать параметры анализаторам в зависимости от характеристик конкретного текста\n",
    "3. удалить из текстов ссылки, лингвистические примеры и не-текстовые токены (это должно убрать лишние именованные сущности и цифры)\n",
    "4. взять полные тексты статей\n",
    "\n",
    "Если бы корпус был больше и/или другой тематики (например, новости - в них обычно больше ключевых слов, в т.ч. именованные сущности и группы помимо *Adj+Noun*), то имело бы смысл не делать такую \"нормализацию\" как у меня, учитывать n-граммы (а не только пословные совпадения) и использовать синтаксические шаблоны.\n",
    "Прочитав тексты и самостоятельно выделив ключевые слова, я считаю, что для данного корпуса использованные мной методы вполне достаточны, и использование чего-либо более сложного не дало бы особого улучшения."
   ]
  },
  {
   "cell_type": "markdown",
   "metadata": {},
   "source": [
    "*Анна Полянская, БКЛ171*"
   ]
  }
 ],
 "metadata": {
  "kernelspec": {
   "display_name": "Python 3",
   "language": "python",
   "name": "python3"
  },
  "language_info": {
   "codemirror_mode": {
    "name": "ipython",
    "version": 3
   },
   "file_extension": ".py",
   "mimetype": "text/x-python",
   "name": "python",
   "nbconvert_exporter": "python",
   "pygments_lexer": "ipython3",
   "version": "3.7.3"
  }
 },
 "nbformat": 4,
 "nbformat_minor": 2
}
